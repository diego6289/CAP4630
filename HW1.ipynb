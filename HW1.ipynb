{
  "nbformat": 4,
  "nbformat_minor": 0,
  "metadata": {
    "colab": {
      "name": "HW1.ipynb",
      "provenance": [],
      "collapsed_sections": [],
      "authorship_tag": "ABX9TyOaF/ZINWLM1MEi+VHiLCyG",
      "include_colab_link": true
    },
    "kernelspec": {
      "name": "python3",
      "display_name": "Python 3"
    },
    "accelerator": "GPU"
  },
  "cells": [
    {
      "cell_type": "markdown",
      "metadata": {
        "id": "view-in-github",
        "colab_type": "text"
      },
      "source": [
        "<a href=\"https://colab.research.google.com/github/diego6289/CAP4630/blob/master/HW1.ipynb\" target=\"_parent\"><img src=\"https://colab.research.google.com/assets/colab-badge.svg\" alt=\"Open In Colab\"/></a>"
      ]
    },
    {
      "cell_type": "code",
      "metadata": {
        "id": "vwdf-NW0wtiu",
        "colab_type": "code",
        "colab": {
          "base_uri": "https://localhost:8080/",
          "height": 68
        },
        "outputId": "646690c1-d301-42e7-de57-e44ccfa780b9"
      },
      "source": [
        "import numpy as np\n",
        "\n",
        "a = np.array([[3, 6, 7], [5, -3, 0]])\n",
        "b = np.array([[1, 1], [2, 1], [3, -3]])\n",
        "c = np.array([a, b])\n",
        "res = b\n",
        "\n",
        "for ai in c:\n",
        "  res = np.matmul(res, ai)\n",
        "\n",
        "print(res)"
      ],
      "execution_count": 10,
      "outputs": [
        {
          "output_type": "stream",
          "text": [
            "[[ 35 -10]\n",
            " [ 71 -22]\n",
            " [111 -42]]\n"
          ],
          "name": "stdout"
        }
      ]
    }
  ]
}