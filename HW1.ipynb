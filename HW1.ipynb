{
  "nbformat": 4,
  "nbformat_minor": 0,
  "metadata": {
    "colab": {
      "name": "HW1.ipynb",
      "provenance": [],
      "collapsed_sections": [],
      "authorship_tag": "ABX9TyPHdMwcTM676qz4AWTJ7TZp",
      "include_colab_link": true
    },
    "kernelspec": {
      "name": "python3",
      "display_name": "Python 3"
    },
    "accelerator": "GPU"
  },
  "cells": [
    {
      "cell_type": "markdown",
      "metadata": {
        "id": "view-in-github",
        "colab_type": "text"
      },
      "source": [
        "<a href=\"https://colab.research.google.com/github/diego6289/CAP4630/blob/master/HW1.ipynb\" target=\"_parent\"><img src=\"https://colab.research.google.com/assets/colab-badge.svg\" alt=\"Open In Colab\"/></a>"
      ]
    },
    {
      "cell_type": "code",
      "metadata": {
        "id": "vwdf-NW0wtiu",
        "colab_type": "code",
        "colab": {
          "base_uri": "https://localhost:8080/",
          "height": 105
        },
        "outputId": "cdf321df-ce36-494d-914c-ff890a5e1df2"
      },
      "source": [
        "import numpy as np # import the numpy function\n",
        "\n",
        "def Matrices_Mult(array_list):  # define the matrix function\n",
        "    elements = len(array_list) - 1 # calculates the number of elements in the input array\n",
        "    c = array_list[0]   # sets c to the first matrix in the list\n",
        "\n",
        "    for i in range(elements):\n",
        "        try:\n",
        "            c = np.matmul(c, array_list[i+1]) # sets c equal to the previous product times the next matrix in the array\n",
        "        except:\n",
        "            c = 'matrix {} and matrix {} are incompatible'.format(i, i+1) # if matrices aren't compatible, sets c to this error message\n",
        "\n",
        "    return c # outputs either the matrix product or the error message\n",
        "\n",
        "\n",
        "a = np.array([[1,0],[0,1]]) # defines the matrix\n",
        "b = np.array([[4,1],[2,2]])\n",
        "d = np.array([[3,3],[3,3]])\n",
        "e = np.array([[4,4],[5,5]])\n",
        "\n",
        "\n",
        "my_list = [a,b,d,e] # adds the matrices to a list\n",
        "\n",
        "Mat = Matrices_Mult(my_list) # calls the function from above and inputs the array of matrices\n",
        "print(Mat) # prints the output of the function\n",
        "\n",
        "\n",
        "# this section of code inputs incompatible martices into the function. \n",
        "a = np.array([[1,0],[0,1]]) # defines the matrix\n",
        "b = np.array([[4,1],[2,2]])\n",
        "d = np.array([[3,3],[3,3]])\n",
        "e = np.array([[4,4],[5,5,6]])\n",
        "\n",
        "my_list = [a,b,d,e]\n",
        "\n",
        "Mat = Matrices_Mult(my_list)\n",
        "print(Mat)"
      ],
      "execution_count": 5,
      "outputs": [
        {
          "output_type": "stream",
          "text": [
            "[[135 135]\n",
            " [108 108]]\n",
            "[list([4, 4, 4, 4, 4, 4, 4, 4, 4, 4, 4, 4, 4, 4, 4, 4, 4, 4, 4, 4, 4, 4, 4, 4, 4, 4, 4, 4, 4, 4, 5, 5, 6, 5, 5, 6, 5, 5, 6, 5, 5, 6, 5, 5, 6, 5, 5, 6, 5, 5, 6, 5, 5, 6, 5, 5, 6, 5, 5, 6, 5, 5, 6, 5, 5, 6, 5, 5, 6, 5, 5, 6, 5, 5, 6])\n",
            " list([4, 4, 4, 4, 4, 4, 4, 4, 4, 4, 4, 4, 4, 4, 4, 4, 4, 4, 4, 4, 4, 4, 4, 4, 5, 5, 6, 5, 5, 6, 5, 5, 6, 5, 5, 6, 5, 5, 6, 5, 5, 6, 5, 5, 6, 5, 5, 6, 5, 5, 6, 5, 5, 6, 5, 5, 6, 5, 5, 6])]\n"
          ],
          "name": "stdout"
        }
      ]
    }
  ]
}