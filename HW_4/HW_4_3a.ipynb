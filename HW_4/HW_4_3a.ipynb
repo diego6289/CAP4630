{
  "nbformat": 4,
  "nbformat_minor": 0,
  "metadata": {
    "colab": {
      "name": "HW_4_3a.ipynb",
      "provenance": [],
      "collapsed_sections": [],
      "authorship_tag": "ABX9TyOusBhBQkaH297RG204A8Kd",
      "include_colab_link": true
    },
    "kernelspec": {
      "name": "python3",
      "display_name": "Python 3"
    },
    "accelerator": "GPU"
  },
  "cells": [
    {
      "cell_type": "markdown",
      "metadata": {
        "id": "view-in-github",
        "colab_type": "text"
      },
      "source": [
        "<a href=\"https://colab.research.google.com/github/diego6289/CAP4630/blob/master/HW_4/HW_4_3a.ipynb\" target=\"_parent\"><img src=\"https://colab.research.google.com/assets/colab-badge.svg\" alt=\"Open In Colab\"/></a>"
      ]
    },
    {
      "cell_type": "markdown",
      "metadata": {
        "id": "jjYFdWJWPHKy",
        "colab_type": "text"
      },
      "source": [
        "## Modified VGG16"
      ]
    },
    {
      "cell_type": "code",
      "metadata": {
        "id": "UvzWm66lOerj",
        "colab_type": "code",
        "colab": {
          "base_uri": "https://localhost:8080/",
          "height": 204
        },
        "outputId": "81b67e0d-11b0-49b2-b296-f9a197d07236"
      },
      "source": [
        "!wget --no-check-certificate \\\n",
        "    https://storage.googleapis.com/mledu-datasets/cats_and_dogs_filtered.zip \\\n",
        "    -O /tmp/cats_and_dogs_filtered.zip"
      ],
      "execution_count": 14,
      "outputs": [
        {
          "output_type": "stream",
          "text": [
            "--2020-04-21 05:59:58--  https://storage.googleapis.com/mledu-datasets/cats_and_dogs_filtered.zip\n",
            "Resolving storage.googleapis.com (storage.googleapis.com)... 108.177.119.128, 2a00:1450:4013:c00::80\n",
            "Connecting to storage.googleapis.com (storage.googleapis.com)|108.177.119.128|:443... connected.\n",
            "HTTP request sent, awaiting response... 200 OK\n",
            "Length: 68606236 (65M) [application/zip]\n",
            "Saving to: ‘/tmp/cats_and_dogs_filtered.zip’\n",
            "\n",
            "\r          /tmp/cats   0%[                    ]       0  --.-KB/s               \r         /tmp/cats_  26%[====>               ]  17.34M  86.7MB/s               \r        /tmp/cats_a  61%[===========>        ]  40.01M  99.8MB/s               \r/tmp/cats_and_dogs_ 100%[===================>]  65.43M   117MB/s    in 0.6s    \n",
            "\n",
            "2020-04-21 05:59:59 (117 MB/s) - ‘/tmp/cats_and_dogs_filtered.zip’ saved [68606236/68606236]\n",
            "\n"
          ],
          "name": "stdout"
        }
      ]
    },
    {
      "cell_type": "code",
      "metadata": {
        "id": "7hPUXBWwOoAG",
        "colab_type": "code",
        "colab": {}
      },
      "source": [
        "import os\n",
        "import zipfile\n",
        "\n",
        "local_zip = '/tmp/cats_and_dogs_filtered.zip'\n",
        "zip_ref = zipfile.ZipFile(local_zip, 'r')\n",
        "zip_ref.extractall('/tmp')\n",
        "zip_ref.close()"
      ],
      "execution_count": 0,
      "outputs": []
    },
    {
      "cell_type": "code",
      "metadata": {
        "id": "p8PG7kmdOoVa",
        "colab_type": "code",
        "colab": {}
      },
      "source": [
        "base_dir = '/tmp/cats_and_dogs_filtered'\n",
        "train_dir = os.path.join(base_dir, 'train')\n",
        "validation_dir = os.path.join(base_dir, 'validation')\n",
        "\n",
        "# Directory with our training cat pictures\n",
        "train_cats_dir = os.path.join(train_dir, 'cats')\n",
        "\n",
        "# Directory with our training dog pictures\n",
        "train_dogs_dir = os.path.join(train_dir, 'dogs')\n",
        "\n",
        "# Directory with our validation cat pictures\n",
        "validation_cats_dir = os.path.join(validation_dir, 'cats')\n",
        "\n",
        "# Directory with our validation dog pictures\n",
        "validation_dogs_dir = os.path.join(validation_dir, 'dogs')"
      ],
      "execution_count": 0,
      "outputs": []
    },
    {
      "cell_type": "code",
      "metadata": {
        "id": "fIsZaG3ROoZu",
        "colab_type": "code",
        "colab": {}
      },
      "source": [
        "from keras.applications import VGG16\n",
        "\n",
        "conv_base = VGG16(\n",
        "    weights='imagenet', \n",
        "    include_top=False, \n",
        "    input_shape=(150, 150, 3))\n",
        "\n",
        "conv_base.trainable = True"
      ],
      "execution_count": 0,
      "outputs": []
    },
    {
      "cell_type": "code",
      "metadata": {
        "id": "tWjsAdVsOoc6",
        "colab_type": "code",
        "colab": {}
      },
      "source": [
        "from keras import layers\n",
        "from keras import models\n",
        "from keras import optimizers\n",
        "\n",
        "model = models.Sequential()\n",
        "model.add(conv_base)\n",
        "model.add(layers.Flatten())\n",
        "model.add(layers.Dense(256, activation='relu'))   # data augmentation with densely connected layer\n",
        "model.add(layers.Dense(1, activation='sigmoid'))    # classifier 1\n",
        "\n",
        "set_trainable = False\n",
        "for layer in conv_base.layers:\n",
        "    if layer.name == 'block5_conv1' or layer.name == 'blocks4_conv1':    # unfreezing these layers\n",
        "        set_trainable = True\n",
        "    if set_trainable:\n",
        "        layer.trainable = True\n",
        "    else:\n",
        "        layer.trainable = False"
      ],
      "execution_count": 0,
      "outputs": []
    },
    {
      "cell_type": "code",
      "metadata": {
        "id": "7yHlx99dOogK",
        "colab_type": "code",
        "colab": {
          "base_uri": "https://localhost:8080/",
          "height": 1000
        },
        "outputId": "0ec4f622-1b08-4f79-d191-0c9bc3af18ea"
      },
      "source": [
        "from keras.preprocessing.image import ImageDataGenerator\n",
        "from keras import optimizers\n",
        "\n",
        "# data augmentation\n",
        "\n",
        "train_datagen = ImageDataGenerator(\n",
        "    rescale=1./255, \n",
        "    rotation_range=40,\n",
        "    width_shift_range=0.2,\n",
        "    height_shift_range=0.2,\n",
        "    shear_range=0.2,\n",
        "    zoom_range=0.2,\n",
        "    horizontal_flip=True,\n",
        "    fill_mode='nearest'\n",
        ")\n",
        "\n",
        "train_generator = train_datagen.flow_from_directory(\n",
        "    train_dir,\n",
        "    target_size=(150, 150),\n",
        "    batch_size=20,\n",
        "    class_mode='binary')\n",
        "\n",
        "validation_datagen = ImageDataGenerator(rescale=1./255)\n",
        "\n",
        "validation_generator = validation_datagen.flow_from_directory(\n",
        "    validation_dir,\n",
        "    target_size=(150, 150),\n",
        "    batch_size=20,\n",
        "    class_mode='binary')\n",
        "\n",
        "# compile model\n",
        "\n",
        "model.compile(\n",
        "    loss='binary_crossentropy', \n",
        "    optimizer=optimizers.RMSprop(lr=2e-5), \n",
        "    metrics=['acc'])\n",
        "\n",
        "# train\n",
        "\n",
        "history = model.fit_generator(\n",
        "    train_generator,\n",
        "    steps_per_epoch=100,\n",
        "    epochs=30,\n",
        "    validation_data=validation_generator,\n",
        "    validation_steps=50\n",
        ")"
      ],
      "execution_count": 19,
      "outputs": [
        {
          "output_type": "stream",
          "text": [
            "Found 2000 images belonging to 2 classes.\n",
            "Found 1000 images belonging to 2 classes.\n",
            "Epoch 1/30\n",
            "100/100 [==============================] - 27s 267ms/step - loss: 0.4653 - acc: 0.7700 - val_loss: 0.4409 - val_acc: 0.8450\n",
            "Epoch 2/30\n",
            "100/100 [==============================] - 18s 179ms/step - loss: 0.3262 - acc: 0.8555 - val_loss: 0.1059 - val_acc: 0.9010\n",
            "Epoch 3/30\n",
            "100/100 [==============================] - 18s 178ms/step - loss: 0.2840 - acc: 0.8785 - val_loss: 0.0526 - val_acc: 0.9150\n",
            "Epoch 4/30\n",
            "100/100 [==============================] - 18s 180ms/step - loss: 0.2621 - acc: 0.8920 - val_loss: 0.0878 - val_acc: 0.9170\n",
            "Epoch 5/30\n",
            "100/100 [==============================] - 18s 181ms/step - loss: 0.2426 - acc: 0.8985 - val_loss: 0.1642 - val_acc: 0.9100\n",
            "Epoch 6/30\n",
            "100/100 [==============================] - 18s 179ms/step - loss: 0.2058 - acc: 0.9140 - val_loss: 0.0708 - val_acc: 0.9300\n",
            "Epoch 7/30\n",
            "100/100 [==============================] - 18s 179ms/step - loss: 0.2068 - acc: 0.9200 - val_loss: 0.4073 - val_acc: 0.9330\n",
            "Epoch 8/30\n",
            "100/100 [==============================] - 18s 179ms/step - loss: 0.2100 - acc: 0.9125 - val_loss: 0.2815 - val_acc: 0.9120\n",
            "Epoch 9/30\n",
            "100/100 [==============================] - 18s 180ms/step - loss: 0.1849 - acc: 0.9185 - val_loss: 0.0105 - val_acc: 0.9240\n",
            "Epoch 10/30\n",
            "100/100 [==============================] - 18s 179ms/step - loss: 0.1680 - acc: 0.9310 - val_loss: 0.6212 - val_acc: 0.9280\n",
            "Epoch 11/30\n",
            "100/100 [==============================] - 18s 180ms/step - loss: 0.1538 - acc: 0.9390 - val_loss: 0.0198 - val_acc: 0.9410\n",
            "Epoch 12/30\n",
            "100/100 [==============================] - 18s 179ms/step - loss: 0.1585 - acc: 0.9375 - val_loss: 0.1377 - val_acc: 0.9390\n",
            "Epoch 13/30\n",
            "100/100 [==============================] - 18s 180ms/step - loss: 0.1444 - acc: 0.9455 - val_loss: 0.0368 - val_acc: 0.9240\n",
            "Epoch 14/30\n",
            "100/100 [==============================] - 18s 180ms/step - loss: 0.1383 - acc: 0.9435 - val_loss: 0.0426 - val_acc: 0.9450\n",
            "Epoch 15/30\n",
            "100/100 [==============================] - 18s 180ms/step - loss: 0.1241 - acc: 0.9520 - val_loss: 0.0930 - val_acc: 0.9390\n",
            "Epoch 16/30\n",
            "100/100 [==============================] - 18s 179ms/step - loss: 0.1127 - acc: 0.9535 - val_loss: 0.1981 - val_acc: 0.9420\n",
            "Epoch 17/30\n",
            "100/100 [==============================] - 18s 180ms/step - loss: 0.1229 - acc: 0.9525 - val_loss: 0.0096 - val_acc: 0.9430\n",
            "Epoch 18/30\n",
            "100/100 [==============================] - 18s 180ms/step - loss: 0.1143 - acc: 0.9580 - val_loss: 0.3166 - val_acc: 0.9110\n",
            "Epoch 19/30\n",
            "100/100 [==============================] - 18s 179ms/step - loss: 0.1078 - acc: 0.9540 - val_loss: 0.5465 - val_acc: 0.9440\n",
            "Epoch 20/30\n",
            "100/100 [==============================] - 18s 179ms/step - loss: 0.1023 - acc: 0.9590 - val_loss: 0.2158 - val_acc: 0.9270\n",
            "Epoch 21/30\n",
            "100/100 [==============================] - 18s 179ms/step - loss: 0.0888 - acc: 0.9640 - val_loss: 0.0174 - val_acc: 0.9240\n",
            "Epoch 22/30\n",
            "100/100 [==============================] - 18s 182ms/step - loss: 0.0845 - acc: 0.9680 - val_loss: 0.0378 - val_acc: 0.9310\n",
            "Epoch 23/30\n",
            "100/100 [==============================] - 18s 180ms/step - loss: 0.0943 - acc: 0.9620 - val_loss: 0.0086 - val_acc: 0.9340\n",
            "Epoch 24/30\n",
            "100/100 [==============================] - 18s 180ms/step - loss: 0.0819 - acc: 0.9635 - val_loss: 0.7069 - val_acc: 0.9370\n",
            "Epoch 25/30\n",
            "100/100 [==============================] - 18s 180ms/step - loss: 0.0732 - acc: 0.9710 - val_loss: 0.0093 - val_acc: 0.9130\n",
            "Epoch 26/30\n",
            "100/100 [==============================] - 18s 180ms/step - loss: 0.0818 - acc: 0.9730 - val_loss: 0.0401 - val_acc: 0.9320\n",
            "Epoch 27/30\n",
            "100/100 [==============================] - 18s 181ms/step - loss: 0.0657 - acc: 0.9750 - val_loss: 0.0921 - val_acc: 0.9450\n",
            "Epoch 28/30\n",
            "100/100 [==============================] - 18s 179ms/step - loss: 0.0636 - acc: 0.9775 - val_loss: 0.0053 - val_acc: 0.9320\n",
            "Epoch 29/30\n",
            "100/100 [==============================] - 18s 180ms/step - loss: 0.0634 - acc: 0.9760 - val_loss: 0.0612 - val_acc: 0.9370\n",
            "Epoch 30/30\n",
            "100/100 [==============================] - 18s 180ms/step - loss: 0.0669 - acc: 0.9715 - val_loss: 0.2181 - val_acc: 0.9520\n"
          ],
          "name": "stdout"
        }
      ]
    },
    {
      "cell_type": "code",
      "metadata": {
        "id": "6FPa8eFsOojX",
        "colab_type": "code",
        "colab": {
          "base_uri": "https://localhost:8080/",
          "height": 545
        },
        "outputId": "146bcd9d-9247-462b-f1c0-a4b0aa0f36a6"
      },
      "source": [
        "%matplotlib inline\n",
        "\n",
        "import matplotlib.pyplot as plt\n",
        "\n",
        "acc = history.history['acc']\n",
        "val_acc = history.history['val_acc']\n",
        "\n",
        "loss = history.history['loss']\n",
        "val_loss = history.history['val_loss']\n",
        "\n",
        "epochs = range(1, len(acc) + 1)\n",
        "\n",
        "# training and validation accuracy\n",
        "\n",
        "plt.plot(epochs, acc, 'bo', label='training acc')\n",
        "plt.plot(epochs, val_acc, 'b', label='validation acc')\n",
        "plt.title('training and validation accuracy')\n",
        "plt.legend()\n",
        "\n",
        "plt.figure()\n",
        "\n",
        "# training and validation loss\n",
        "\n",
        "plt.plot(epochs, loss, 'bo', label='training loss')\n",
        "plt.plot(epochs, val_loss, 'b', label='validation loss')\n",
        "plt.title('training and validation loss')\n",
        "plt.legend()\n",
        "\n",
        "plt.show()"
      ],
      "execution_count": 20,
      "outputs": [
        {
          "output_type": "display_data",
          "data": {
            "image/png": "[encoded data removed]",
            "text/plain": [
              "<Figure size 432x288 with 1 Axes>"
            ]
          },
          "metadata": {
            "tags": [],
            "needs_background": "light"
          }
        },
        {
          "output_type": "display_data",
          "data": {
            "image/png": "[encoded data removed]",
            "text/plain": [
              "<Figure size 432x288 with 1 Axes>"
            ]
          },
          "metadata": {
            "tags": [],
            "needs_background": "light"
          }
        }
      ]
    },
    {
      "cell_type": "code",
      "metadata": {
        "id": "nazeeVZqOorn",
        "colab_type": "code",
        "colab": {}
      },
      "source": [
        "val_loss, val_acc = model.evaluate_generator(validation_generator, steps=50)"
      ],
      "execution_count": 0,
      "outputs": []
    },
    {
      "cell_type": "code",
      "metadata": {
        "id": "EzHlDU_BOopb",
        "colab_type": "code",
        "colab": {
          "base_uri": "https://localhost:8080/",
          "height": 51
        },
        "outputId": "562af93b-ad77-4aa2-854d-a23f070f3460"
      },
      "source": [
        "print(\"Validation loss:\", val_loss)\n",
        "print(\"Validation accuracy:\", val_acc)"
      ],
      "execution_count": 22,
      "outputs": [
        {
          "output_type": "stream",
          "text": [
            "Validation loss: 0.2181398868560791\n",
            "Validation accuracy: 0.9520000219345093\n"
          ],
          "name": "stdout"
        }
      ]
    }
  ]
}