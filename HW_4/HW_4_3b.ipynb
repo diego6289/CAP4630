{
  "nbformat": 4,
  "nbformat_minor": 0,
  "metadata": {
    "colab": {
      "name": "HW_4_3b.ipynb",
      "provenance": [],
      "collapsed_sections": [],
      "authorship_tag": "ABX9TyMDKYo1Xhbs9xkI30o4ydEl",
      "include_colab_link": true
    },
    "kernelspec": {
      "name": "python3",
      "display_name": "Python 3"
    },
    "accelerator": "GPU"
  },
  "cells": [
    {
      "cell_type": "markdown",
      "metadata": {
        "id": "view-in-github",
        "colab_type": "text"
      },
      "source": [
        "<a href=\"https://colab.research.google.com/github/diego6289/CAP4630/blob/master/HW_4/HW_4_3b.ipynb\" target=\"_parent\"><img src=\"https://colab.research.google.com/assets/colab-badge.svg\" alt=\"Open In Colab\"/></a>"
      ]
    },
    {
      "cell_type": "markdown",
      "metadata": {
        "id": "6io6Rv1pNVQw",
        "colab_type": "text"
      },
      "source": [
        "## Modified VGG16 with Different Classifier"
      ]
    },
    {
      "cell_type": "code",
      "metadata": {
        "id": "7IuX1VLFKlSB",
        "colab_type": "code",
        "colab": {
          "base_uri": "https://localhost:8080/",
          "height": 204
        },
        "outputId": "7c718bf3-7841-4a40-acc0-13bd43bb5d78"
      },
      "source": [
        "!wget --no-check-certificate \\\n",
        "    https://storage.googleapis.com/mledu-datasets/cats_and_dogs_filtered.zip \\\n",
        "    -O /tmp/cats_and_dogs_filtered.zip"
      ],
      "execution_count": 1,
      "outputs": [
        {
          "output_type": "stream",
          "text": [
            "--2020-04-21 06:03:57--  https://storage.googleapis.com/mledu-datasets/cats_and_dogs_filtered.zip\n",
            "Resolving storage.googleapis.com (storage.googleapis.com)... 172.217.218.128, 2a00:1450:4013:c01::80\n",
            "Connecting to storage.googleapis.com (storage.googleapis.com)|172.217.218.128|:443... connected.\n",
            "HTTP request sent, awaiting response... 200 OK\n",
            "Length: 68606236 (65M) [application/zip]\n",
            "Saving to: ‘/tmp/cats_and_dogs_filtered.zip’\n",
            "\n",
            "\r          /tmp/cats   0%[                    ]       0  --.-KB/s               \r         /tmp/cats_  73%[=============>      ]  48.01M   144MB/s               \r/tmp/cats_and_dogs_ 100%[===================>]  65.43M   171MB/s    in 0.4s    \n",
            "\n",
            "2020-04-21 06:03:58 (171 MB/s) - ‘/tmp/cats_and_dogs_filtered.zip’ saved [68606236/68606236]\n",
            "\n"
          ],
          "name": "stdout"
        }
      ]
    },
    {
      "cell_type": "code",
      "metadata": {
        "id": "k0BB8-GeNsEC",
        "colab_type": "code",
        "colab": {}
      },
      "source": [
        "import os\n",
        "import zipfile\n",
        "\n",
        "local_zip = '/tmp/cats_and_dogs_filtered.zip'\n",
        "zip_ref = zipfile.ZipFile(local_zip, 'r')\n",
        "zip_ref.extractall('/tmp')\n",
        "zip_ref.close()"
      ],
      "execution_count": 0,
      "outputs": []
    },
    {
      "cell_type": "code",
      "metadata": {
        "id": "XUs3gt95NssH",
        "colab_type": "code",
        "colab": {}
      },
      "source": [
        "base_dir = '/tmp/cats_and_dogs_filtered'\n",
        "train_dir = os.path.join(base_dir, 'train')\n",
        "validation_dir = os.path.join(base_dir, 'validation')\n",
        "\n",
        "# Directory with our training cat pictures\n",
        "train_cats_dir = os.path.join(train_dir, 'cats')\n",
        "\n",
        "# Directory with our training dog pictures\n",
        "train_dogs_dir = os.path.join(train_dir, 'dogs')\n",
        "\n",
        "# Directory with our validation cat pictures\n",
        "validation_cats_dir = os.path.join(validation_dir, 'cats')\n",
        "\n",
        "# Directory with our validation dog pictures\n",
        "validation_dogs_dir = os.path.join(validation_dir, 'dogs')"
      ],
      "execution_count": 0,
      "outputs": []
    },
    {
      "cell_type": "code",
      "metadata": {
        "id": "PoMzIf8ANwdJ",
        "colab_type": "code",
        "colab": {
          "base_uri": "https://localhost:8080/",
          "height": 88
        },
        "outputId": "6bfb987b-4493-4a30-ba52-5119ec885d9c"
      },
      "source": [
        "from keras.applications import VGG16\n",
        "\n",
        "conv_base = VGG16(\n",
        "    weights='imagenet', \n",
        "    include_top=False, \n",
        "    input_shape=(150, 150, 3))\n",
        "\n",
        "conv_base.trainable = True"
      ],
      "execution_count": 4,
      "outputs": [
        {
          "output_type": "stream",
          "text": [
            "Using TensorFlow backend.\n"
          ],
          "name": "stderr"
        },
        {
          "output_type": "stream",
          "text": [
            "Downloading data from https://github.com/fchollet/deep-learning-models/releases/download/v0.1/vgg16_weights_tf_dim_ordering_tf_kernels_notop.h5\n",
            "58892288/58889256 [==============================] - 2s 0us/step\n"
          ],
          "name": "stdout"
        }
      ]
    },
    {
      "cell_type": "code",
      "metadata": {
        "id": "RnXj5WugNyn1",
        "colab_type": "code",
        "colab": {}
      },
      "source": [
        "from keras import layers\n",
        "from keras import models\n",
        "from keras import optimizers\n",
        "\n",
        "model = models.Sequential()\n",
        "model.add(conv_base)\n",
        "model.add(layers.Flatten())\n",
        "model.add(layers.Dense(128, activation='relu'))   # data augmentation with densely connected layer\n",
        "model.add(layers.Dense(1, activation='sigmoid'))    # classifier 1\n",
        "\n",
        "set_trainable = False\n",
        "for layer in conv_base.layers:\n",
        "    if layer.name == 'block5_conv1' or layer.name == 'blocks4_conv1':    # unfreezing these layers\n",
        "        set_trainable = True\n",
        "    if set_trainable:\n",
        "        layer.trainable = True\n",
        "    else:\n",
        "        layer.trainable = False"
      ],
      "execution_count": 0,
      "outputs": []
    },
    {
      "cell_type": "code",
      "metadata": {
        "id": "eEnDYkeGN1GL",
        "colab_type": "code",
        "colab": {
          "base_uri": "https://localhost:8080/",
          "height": 1000
        },
        "outputId": "ec2b3e5b-181b-43ef-9ad3-0829e74b56a8"
      },
      "source": [
        "from keras.preprocessing.image import ImageDataGenerator\n",
        "from keras import optimizers\n",
        "\n",
        "# data augmentation\n",
        "\n",
        "train_datagen = ImageDataGenerator(\n",
        "    rescale=1./255, \n",
        "    rotation_range=40,\n",
        "    width_shift_range=0.2,\n",
        "    height_shift_range=0.2,\n",
        "    shear_range=0.2,\n",
        "    zoom_range=0.2,\n",
        "    horizontal_flip=True,\n",
        "    fill_mode='nearest'\n",
        ")\n",
        "\n",
        "train_generator = train_datagen.flow_from_directory(\n",
        "    train_dir,\n",
        "    target_size=(150, 150),\n",
        "    batch_size=20,\n",
        "    class_mode='binary')\n",
        "\n",
        "validation_datagen = ImageDataGenerator(rescale=1./255)\n",
        "\n",
        "validation_generator = validation_datagen.flow_from_directory(\n",
        "    validation_dir,\n",
        "    target_size=(150, 150),\n",
        "    batch_size=20,\n",
        "    class_mode='binary')\n",
        "\n",
        "# compile model\n",
        "\n",
        "model.compile(\n",
        "    loss='binary_crossentropy', \n",
        "    optimizer=optimizers.RMSprop(lr=2e-5), \n",
        "    metrics=['acc'])\n",
        "\n",
        "# train\n",
        "\n",
        "history = model.fit_generator(\n",
        "    train_generator,\n",
        "    steps_per_epoch=100,\n",
        "    epochs=30,\n",
        "    validation_data=validation_generator,\n",
        "    validation_steps=50\n",
        ")"
      ],
      "execution_count": 6,
      "outputs": [
        {
          "output_type": "stream",
          "text": [
            "Found 2000 images belonging to 2 classes.\n",
            "Found 1000 images belonging to 2 classes.\n",
            "Epoch 1/30\n",
            "100/100 [==============================] - 25s 251ms/step - loss: 0.4991 - acc: 0.7585 - val_loss: 0.3248 - val_acc: 0.8690\n",
            "Epoch 2/30\n",
            "100/100 [==============================] - 18s 183ms/step - loss: 0.3453 - acc: 0.8450 - val_loss: 0.2903 - val_acc: 0.8940\n",
            "Epoch 3/30\n",
            "100/100 [==============================] - 18s 183ms/step - loss: 0.2849 - acc: 0.8730 - val_loss: 0.1775 - val_acc: 0.9100\n",
            "Epoch 4/30\n",
            "100/100 [==============================] - 18s 181ms/step - loss: 0.2612 - acc: 0.8855 - val_loss: 0.1144 - val_acc: 0.9240\n",
            "Epoch 5/30\n",
            "100/100 [==============================] - 18s 182ms/step - loss: 0.2324 - acc: 0.9010 - val_loss: 0.1745 - val_acc: 0.9230\n",
            "Epoch 6/30\n",
            "100/100 [==============================] - 18s 183ms/step - loss: 0.2124 - acc: 0.9175 - val_loss: 0.1172 - val_acc: 0.9280\n",
            "Epoch 7/30\n",
            "100/100 [==============================] - 18s 182ms/step - loss: 0.2080 - acc: 0.9170 - val_loss: 0.3544 - val_acc: 0.9200\n",
            "Epoch 8/30\n",
            "100/100 [==============================] - 18s 179ms/step - loss: 0.1823 - acc: 0.9255 - val_loss: 0.1555 - val_acc: 0.9080\n",
            "Epoch 9/30\n",
            "100/100 [==============================] - 18s 180ms/step - loss: 0.1797 - acc: 0.9285 - val_loss: 0.0600 - val_acc: 0.9330\n",
            "Epoch 10/30\n",
            "100/100 [==============================] - 18s 178ms/step - loss: 0.1713 - acc: 0.9275 - val_loss: 0.0159 - val_acc: 0.9360\n",
            "Epoch 11/30\n",
            "100/100 [==============================] - 18s 178ms/step - loss: 0.1554 - acc: 0.9385 - val_loss: 0.0127 - val_acc: 0.9180\n",
            "Epoch 12/30\n",
            "100/100 [==============================] - 18s 175ms/step - loss: 0.1573 - acc: 0.9370 - val_loss: 0.1179 - val_acc: 0.9410\n",
            "Epoch 13/30\n",
            "100/100 [==============================] - 17s 175ms/step - loss: 0.1370 - acc: 0.9435 - val_loss: 0.0587 - val_acc: 0.9330\n",
            "Epoch 14/30\n",
            "100/100 [==============================] - 17s 175ms/step - loss: 0.1341 - acc: 0.9455 - val_loss: 0.4676 - val_acc: 0.9410\n",
            "Epoch 15/30\n",
            "100/100 [==============================] - 18s 175ms/step - loss: 0.1327 - acc: 0.9460 - val_loss: 0.0133 - val_acc: 0.9420\n",
            "Epoch 16/30\n",
            "100/100 [==============================] - 17s 172ms/step - loss: 0.1247 - acc: 0.9505 - val_loss: 0.0091 - val_acc: 0.9370\n",
            "Epoch 17/30\n",
            "100/100 [==============================] - 17s 171ms/step - loss: 0.1189 - acc: 0.9515 - val_loss: 0.1924 - val_acc: 0.9190\n",
            "Epoch 18/30\n",
            "100/100 [==============================] - 17s 171ms/step - loss: 0.1095 - acc: 0.9575 - val_loss: 0.5239 - val_acc: 0.9270\n",
            "Epoch 19/30\n",
            "100/100 [==============================] - 17s 170ms/step - loss: 0.1136 - acc: 0.9535 - val_loss: 0.0908 - val_acc: 0.9440\n",
            "Epoch 20/30\n",
            "100/100 [==============================] - 17s 173ms/step - loss: 0.0959 - acc: 0.9625 - val_loss: 0.0650 - val_acc: 0.9430\n",
            "Epoch 21/30\n",
            "100/100 [==============================] - 17s 169ms/step - loss: 0.0917 - acc: 0.9640 - val_loss: 0.7065 - val_acc: 0.9430\n",
            "Epoch 22/30\n",
            "100/100 [==============================] - 17s 169ms/step - loss: 0.0963 - acc: 0.9575 - val_loss: 0.0795 - val_acc: 0.9390\n",
            "Epoch 23/30\n",
            "100/100 [==============================] - 17s 168ms/step - loss: 0.1112 - acc: 0.9605 - val_loss: 0.1445 - val_acc: 0.9170\n",
            "Epoch 24/30\n",
            "100/100 [==============================] - 17s 168ms/step - loss: 0.0800 - acc: 0.9690 - val_loss: 0.0661 - val_acc: 0.9500\n",
            "Epoch 25/30\n",
            "100/100 [==============================] - 17s 172ms/step - loss: 0.0792 - acc: 0.9670 - val_loss: 0.0591 - val_acc: 0.9500\n",
            "Epoch 26/30\n",
            "100/100 [==============================] - 17s 169ms/step - loss: 0.0908 - acc: 0.9630 - val_loss: 0.1440 - val_acc: 0.9490\n",
            "Epoch 27/30\n",
            "100/100 [==============================] - 17s 168ms/step - loss: 0.0882 - acc: 0.9650 - val_loss: 0.3396 - val_acc: 0.9470\n",
            "Epoch 28/30\n",
            "100/100 [==============================] - 17s 168ms/step - loss: 0.0746 - acc: 0.9735 - val_loss: 0.0034 - val_acc: 0.9440\n",
            "Epoch 29/30\n",
            "100/100 [==============================] - 17s 169ms/step - loss: 0.0701 - acc: 0.9725 - val_loss: 0.0404 - val_acc: 0.9160\n",
            "Epoch 30/30\n",
            "100/100 [==============================] - 17s 168ms/step - loss: 0.0750 - acc: 0.9680 - val_loss: 0.1972 - val_acc: 0.9460\n"
          ],
          "name": "stdout"
        }
      ]
    },
    {
      "cell_type": "code",
      "metadata": {
        "id": "TLSdv6-8N49o",
        "colab_type": "code",
        "colab": {
          "base_uri": "https://localhost:8080/",
          "height": 545
        },
        "outputId": "d2516680-2dc1-4f0b-fb22-91f1a879becb"
      },
      "source": [
        "%matplotlib inline\n",
        "\n",
        "import matplotlib.pyplot as plt\n",
        "\n",
        "acc = history.history['acc']\n",
        "val_acc = history.history['val_acc']\n",
        "\n",
        "loss = history.history['loss']\n",
        "val_loss = history.history['val_loss']\n",
        "\n",
        "epochs = range(1, len(acc) + 1)\n",
        "\n",
        "# training and validation accuracy\n",
        "\n",
        "plt.plot(epochs, acc, 'bo', label='training acc')\n",
        "plt.plot(epochs, val_acc, 'b', label='validation acc')\n",
        "plt.title('training and validation accuracy')\n",
        "plt.legend()\n",
        "\n",
        "plt.figure()\n",
        "\n",
        "# training and validation loss\n",
        "\n",
        "plt.plot(epochs, loss, 'bo', label='training loss')\n",
        "plt.plot(epochs, val_loss, 'b', label='validation loss')\n",
        "plt.title('training and validation loss')\n",
        "plt.legend()\n",
        "\n",
        "plt.show()"
      ],
      "execution_count": 7,
      "outputs": [
        {
          "output_type": "display_data",
          "data": {
            "image/png": "[encoded data removed]",
            "text/plain": [
              "<Figure size 432x288 with 1 Axes>"
            ]
          },
          "metadata": {
            "tags": [],
            "needs_background": "light"
          }
        },
        {
          "output_type": "display_data",
          "data": {
            "image/png": "[encoded data removed]",
            "text/plain": [
              "<Figure size 432x288 with 1 Axes>"
            ]
          },
          "metadata": {
            "tags": [],
            "needs_background": "light"
          }
        }
      ]
    },
    {
      "cell_type": "code",
      "metadata": {
        "id": "GcTGSUanN7MP",
        "colab_type": "code",
        "colab": {}
      },
      "source": [
        "val_loss, val_acc = model.evaluate_generator(validation_generator, steps=50)"
      ],
      "execution_count": 0,
      "outputs": []
    },
    {
      "cell_type": "code",
      "metadata": {
        "id": "0_n69lTbN7gc",
        "colab_type": "code",
        "colab": {
          "base_uri": "https://localhost:8080/",
          "height": 51
        },
        "outputId": "670e1018-d04c-4ee5-a217-bdb7a831b2f7"
      },
      "source": [
        "print(\"Validation loss:\", val_loss)\n",
        "print(\"Validation accuracy:\", val_acc)"
      ],
      "execution_count": 9,
      "outputs": [
        {
          "output_type": "stream",
          "text": [
            "Validation loss: 0.18101951479911804\n",
            "Validation accuracy: 0.9459999799728394\n"
          ],
          "name": "stdout"
        }
      ]
    }
  ]
}