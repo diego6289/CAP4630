{
  "nbformat": 4,
  "nbformat_minor": 0,
  "metadata": {
    "colab": {
      "name": "HW_3.ipynb",
      "provenance": [],
      "collapsed_sections": [],
      "include_colab_link": true
    },
    "kernelspec": {
      "name": "python3",
      "display_name": "Python 3"
    }
  },
  "cells": [
    {
      "cell_type": "markdown",
      "metadata": {
        "id": "view-in-github",
        "colab_type": "text"
      },
      "source": [
        "<a href=\"https://colab.research.google.com/github/diego6289/CAP4630/blob/master/HW_3/HW_3.ipynb\" target=\"_parent\"><img src=\"https://colab.research.google.com/assets/colab-badge.svg\" alt=\"Open In Colab\"/></a>"
      ]
    },
    {
      "cell_type": "markdown",
      "metadata": {
        "id": "bu_A_ik_QZTn",
        "colab_type": "text"
      },
      "source": [
        "# Problem 1"
      ]
    },
    {
      "cell_type": "markdown",
      "metadata": {
        "id": "-08-P02HVFQY",
        "colab_type": "text"
      },
      "source": [
        "###Import packages"
      ]
    },
    {
      "cell_type": "code",
      "metadata": {
        "id": "4eoCd-GVyvCD",
        "colab_type": "code",
        "colab": {}
      },
      "source": [
        "## importing the necessary packages\n",
        "\n",
        "import numpy as np\n",
        "%matplotlib inline\n",
        "import matplotlib as mpl\n",
        "import matplotlib.pyplot as plt\n",
        "from mpl_toolkits import mplot3d\n",
        "\n",
        "import seaborn as sns; sns.set()\n",
        "import matplotlib.pyplot as plt"
      ],
      "execution_count": 0,
      "outputs": []
    },
    {
      "cell_type": "markdown",
      "metadata": {
        "id": "oFSljJ0KVO_5",
        "colab_type": "text"
      },
      "source": [
        "###Get random data"
      ]
    },
    {
      "cell_type": "code",
      "metadata": {
        "id": "xOrFZPduy_Jy",
        "colab_type": "code",
        "colab": {}
      },
      "source": [
        "# creating the random data function\n",
        "def get_random_data(w, b, mu, sigma, m):\n",
        "\n",
        "# c will be used as class label with value 0 and 1 with equal probability\n",
        "# m = number of data points\n",
        "  c = np.random.randint(2, size = m)\n",
        "  n = np.random.normal(mu, sigma, m)\n",
        "  x_1 = np.random.rand(m) # first feature randomly generated\n",
        "  x_2 = w * x_1 + b + (-1)**c * n  # second feature\n",
        "  features = np.column_stack([x_1, x_2])\n",
        "  # returns the entire data frame\n",
        "  return (features, c)"
      ],
      "execution_count": 0,
      "outputs": []
    },
    {
      "cell_type": "code",
      "metadata": {
        "id": "Aay__aeK5goW",
        "colab_type": "code",
        "outputId": "c066673c-76ba-409d-c00f-14fba18da436",
        "colab": {
          "base_uri": "https://localhost:8080/",
          "height": 51
        }
      },
      "source": [
        "m = 6000 # number of data points\n",
        "\n",
        "# running the function to create variables and label data\n",
        "data, labels = get_random_data(5, 5, 1, 1, m)\n",
        "\n",
        "print(\"The shape of the the feature space or the variables is: \", data.shape)\n",
        "print(\"The shape of the labels column is: \",labels.shape)"
      ],
      "execution_count": 88,
      "outputs": [
        {
          "output_type": "stream",
          "text": [
            "The shape of the the feature space or the variables is:  (6000, 2)\n",
            "The shape of the labels column is:  (6000,)\n"
          ],
          "name": "stdout"
        }
      ]
    },
    {
      "cell_type": "code",
      "metadata": {
        "id": "Wk7WVZUw9H_5",
        "colab_type": "code",
        "outputId": "db5c9de4-4f07-4b92-ca2d-632b670c3160",
        "colab": {
          "base_uri": "https://localhost:8080/",
          "height": 268
        }
      },
      "source": [
        "# function to display the generated data\n",
        "def display_random_data(labels, data, show_graph_boolean):\n",
        "  display_percentage = (int)(m * 0.2)\n",
        "  labels_percentage = labels[:display_percentage]\n",
        "  data_percentage = data[:display_percentage]\n",
        "\n",
        "  for color_code, datapoint in zip(labels_percentage, data_percentage):\n",
        "    plt.scatter(datapoint[0], datapoint[1], color = ('red' if color_code == 1 else 'blue'))\n",
        "  \n",
        "  if show_graph_boolean:\n",
        "    plt.show()\n",
        "\n",
        "display_random_data(labels, data, 1)"
      ],
      "execution_count": 89,
      "outputs": [
        {
          "output_type": "display_data",
          "data": {
            "image/png": "[encoded data removed]",
            "text/plain": [
              "<Figure size 432x288 with 1 Axes>"
            ]
          },
          "metadata": {
            "tags": []
          }
        }
      ]
    },
    {
      "cell_type": "markdown",
      "metadata": {
        "id": "L7o6ybxeVWpV",
        "colab_type": "text"
      },
      "source": [
        "###Display random data"
      ]
    },
    {
      "cell_type": "code",
      "metadata": {
        "id": "HglaJDrB_AtL",
        "colab_type": "code",
        "colab": {}
      },
      "source": [
        "# dividing data into trian and testing with 80/20 rule\n",
        "split = int(m * .80)\n",
        "training_set = data[:split]\n",
        "testing_set = data[split:]\n",
        "\n",
        "training_set_label = labels[:split]\n",
        "testing_set_label = labels[split:]"
      ],
      "execution_count": 0,
      "outputs": []
    },
    {
      "cell_type": "markdown",
      "metadata": {
        "id": "B6BihmfoGLZU",
        "colab_type": "text"
      },
      "source": [
        "# Problem 2"
      ]
    },
    {
      "cell_type": "markdown",
      "metadata": {
        "id": "tyl4ATHeonGQ",
        "colab_type": "text"
      },
      "source": [
        "###Train the model"
      ]
    },
    {
      "cell_type": "code",
      "metadata": {
        "id": "TISZEPhE_TYR",
        "colab_type": "code",
        "colab": {}
      },
      "source": [
        "# importing tensorflow package \n",
        "%tensorflow_version 2.x\n",
        "import tensorflow as tf"
      ],
      "execution_count": 0,
      "outputs": []
    },
    {
      "cell_type": "code",
      "metadata": {
        "id": "b8wgAp-H_XEZ",
        "colab_type": "code",
        "colab": {}
      },
      "source": [
        "def keras_model():\n",
        "  glm_model = tf.keras.models.Sequential()\n",
        "\n",
        "  # adding layers and activation function\n",
        "  glm_model.add(tf.keras.layers.Dense(1, activation='sigmoid', input_shape = (2, )))\n",
        "\n",
        "  glm_model.compile(optimizer = tf.keras.optimizers.RMSprop(lr = 0.001), loss = 'binary_crossentropy', metrics = ['accuracy'])\n",
        "  return glm_model"
      ],
      "execution_count": 0,
      "outputs": []
    },
    {
      "cell_type": "code",
      "metadata": {
        "id": "cmjerXBJ_XMh",
        "colab_type": "code",
        "outputId": "1ef5be9d-21e3-406d-d93e-c588e8b83ba7",
        "colab": {
          "base_uri": "https://localhost:8080/",
          "height": 1000
        }
      },
      "source": [
        "# setting the number of epochs\n",
        "epochs_count = 300\n",
        "\n",
        "my_keras_model = keras_model()\n",
        "\n",
        "history_of_model = my_keras_model.fit(training_set, training_set_label, epochs = epochs_count, batch_size = 512, validation_data = (testing_set, testing_set_label))"
      ],
      "execution_count": 93,
      "outputs": [
        {
          "output_type": "stream",
          "text": [
            "Epoch 1/300\n",
            "10/10 [==============================] - 0s 12ms/step - loss: 1.2166 - accuracy: 0.4960 - val_loss: 1.2268 - val_accuracy: 0.4742\n",
            "Epoch 2/300\n",
            "10/10 [==============================] - 0s 5ms/step - loss: 1.1679 - accuracy: 0.4960 - val_loss: 1.1904 - val_accuracy: 0.4742\n",
            "Epoch 3/300\n",
            "10/10 [==============================] - 0s 5ms/step - loss: 1.1480 - accuracy: 0.4960 - val_loss: 1.1570 - val_accuracy: 0.4742\n",
            "Epoch 4/300\n",
            "10/10 [==============================] - 0s 5ms/step - loss: 1.1086 - accuracy: 0.4960 - val_loss: 1.1256 - val_accuracy: 0.4742\n",
            "Epoch 5/300\n",
            "10/10 [==============================] - 0s 5ms/step - loss: 1.0757 - accuracy: 0.4960 - val_loss: 1.0954 - val_accuracy: 0.4742\n",
            "Epoch 6/300\n",
            "10/10 [==============================] - 0s 5ms/step - loss: 1.0460 - accuracy: 0.4960 - val_loss: 1.0657 - val_accuracy: 0.4742\n",
            "Epoch 7/300\n",
            "10/10 [==============================] - 0s 5ms/step - loss: 1.0197 - accuracy: 0.4960 - val_loss: 1.0369 - val_accuracy: 0.4742\n",
            "Epoch 8/300\n",
            "10/10 [==============================] - 0s 5ms/step - loss: 0.9985 - accuracy: 0.4960 - val_loss: 1.0087 - val_accuracy: 0.4742\n",
            "Epoch 9/300\n",
            "10/10 [==============================] - 0s 5ms/step - loss: 0.9663 - accuracy: 0.4960 - val_loss: 0.9822 - val_accuracy: 0.4742\n",
            "Epoch 10/300\n",
            "10/10 [==============================] - 0s 5ms/step - loss: 0.9425 - accuracy: 0.4960 - val_loss: 0.9561 - val_accuracy: 0.4742\n",
            "Epoch 11/300\n",
            "10/10 [==============================] - 0s 6ms/step - loss: 0.9244 - accuracy: 0.4960 - val_loss: 0.9308 - val_accuracy: 0.4742\n",
            "Epoch 12/300\n",
            "10/10 [==============================] - 0s 5ms/step - loss: 0.8979 - accuracy: 0.4960 - val_loss: 0.9071 - val_accuracy: 0.4742\n",
            "Epoch 13/300\n",
            "10/10 [==============================] - 0s 5ms/step - loss: 0.8792 - accuracy: 0.4960 - val_loss: 0.8845 - val_accuracy: 0.4742\n",
            "Epoch 14/300\n",
            "10/10 [==============================] - 0s 5ms/step - loss: 0.8488 - accuracy: 0.4960 - val_loss: 0.8638 - val_accuracy: 0.4742\n",
            "Epoch 15/300\n",
            "10/10 [==============================] - 0s 5ms/step - loss: 0.8368 - accuracy: 0.4960 - val_loss: 0.8432 - val_accuracy: 0.4742\n",
            "Epoch 16/300\n",
            "10/10 [==============================] - 0s 5ms/step - loss: 0.8142 - accuracy: 0.4960 - val_loss: 0.8248 - val_accuracy: 0.4742\n",
            "Epoch 17/300\n",
            "10/10 [==============================] - 0s 5ms/step - loss: 0.7996 - accuracy: 0.4960 - val_loss: 0.8072 - val_accuracy: 0.4750\n",
            "Epoch 18/300\n",
            "10/10 [==============================] - 0s 5ms/step - loss: 0.7849 - accuracy: 0.4963 - val_loss: 0.7911 - val_accuracy: 0.4750\n",
            "Epoch 19/300\n",
            "10/10 [==============================] - 0s 5ms/step - loss: 0.7651 - accuracy: 0.4971 - val_loss: 0.7769 - val_accuracy: 0.4767\n",
            "Epoch 20/300\n",
            "10/10 [==============================] - 0s 5ms/step - loss: 0.7544 - accuracy: 0.5002 - val_loss: 0.7642 - val_accuracy: 0.4792\n",
            "Epoch 21/300\n",
            "10/10 [==============================] - 0s 6ms/step - loss: 0.7469 - accuracy: 0.5060 - val_loss: 0.7524 - val_accuracy: 0.4842\n",
            "Epoch 22/300\n",
            "10/10 [==============================] - 0s 5ms/step - loss: 0.7359 - accuracy: 0.5181 - val_loss: 0.7425 - val_accuracy: 0.4958\n",
            "Epoch 23/300\n",
            "10/10 [==============================] - 0s 5ms/step - loss: 0.7261 - accuracy: 0.5258 - val_loss: 0.7343 - val_accuracy: 0.5025\n",
            "Epoch 24/300\n",
            "10/10 [==============================] - 0s 5ms/step - loss: 0.7202 - accuracy: 0.5256 - val_loss: 0.7277 - val_accuracy: 0.5033\n",
            "Epoch 25/300\n",
            "10/10 [==============================] - 0s 5ms/step - loss: 0.7150 - accuracy: 0.5192 - val_loss: 0.7227 - val_accuracy: 0.5150\n",
            "Epoch 26/300\n",
            "10/10 [==============================] - 0s 5ms/step - loss: 0.7116 - accuracy: 0.5200 - val_loss: 0.7184 - val_accuracy: 0.5083\n",
            "Epoch 27/300\n",
            "10/10 [==============================] - 0s 5ms/step - loss: 0.7088 - accuracy: 0.5119 - val_loss: 0.7157 - val_accuracy: 0.5025\n",
            "Epoch 28/300\n",
            "10/10 [==============================] - 0s 5ms/step - loss: 0.7085 - accuracy: 0.5098 - val_loss: 0.7139 - val_accuracy: 0.4933\n",
            "Epoch 29/300\n",
            "10/10 [==============================] - 0s 6ms/step - loss: 0.7063 - accuracy: 0.5073 - val_loss: 0.7127 - val_accuracy: 0.4942\n",
            "Epoch 30/300\n",
            "10/10 [==============================] - 0s 5ms/step - loss: 0.7062 - accuracy: 0.5075 - val_loss: 0.7114 - val_accuracy: 0.4908\n",
            "Epoch 31/300\n",
            "10/10 [==============================] - 0s 5ms/step - loss: 0.7058 - accuracy: 0.5058 - val_loss: 0.7104 - val_accuracy: 0.4975\n",
            "Epoch 32/300\n",
            "10/10 [==============================] - 0s 5ms/step - loss: 0.7044 - accuracy: 0.5058 - val_loss: 0.7098 - val_accuracy: 0.4967\n",
            "Epoch 33/300\n",
            "10/10 [==============================] - 0s 5ms/step - loss: 0.7042 - accuracy: 0.5102 - val_loss: 0.7085 - val_accuracy: 0.5000\n",
            "Epoch 34/300\n",
            "10/10 [==============================] - 0s 5ms/step - loss: 0.7031 - accuracy: 0.5113 - val_loss: 0.7073 - val_accuracy: 0.5008\n",
            "Epoch 35/300\n",
            "10/10 [==============================] - 0s 5ms/step - loss: 0.7002 - accuracy: 0.5129 - val_loss: 0.7068 - val_accuracy: 0.5008\n",
            "Epoch 36/300\n",
            "10/10 [==============================] - 0s 4ms/step - loss: 0.7009 - accuracy: 0.5144 - val_loss: 0.7059 - val_accuracy: 0.5033\n",
            "Epoch 37/300\n",
            "10/10 [==============================] - 0s 5ms/step - loss: 0.7009 - accuracy: 0.5167 - val_loss: 0.7048 - val_accuracy: 0.5058\n",
            "Epoch 38/300\n",
            "10/10 [==============================] - 0s 5ms/step - loss: 0.6993 - accuracy: 0.5194 - val_loss: 0.7041 - val_accuracy: 0.5067\n",
            "Epoch 39/300\n",
            "10/10 [==============================] - 0s 6ms/step - loss: 0.6979 - accuracy: 0.5225 - val_loss: 0.7031 - val_accuracy: 0.5075\n",
            "Epoch 40/300\n",
            "10/10 [==============================] - 0s 5ms/step - loss: 0.6976 - accuracy: 0.5250 - val_loss: 0.7022 - val_accuracy: 0.5083\n",
            "Epoch 41/300\n",
            "10/10 [==============================] - 0s 5ms/step - loss: 0.6968 - accuracy: 0.5265 - val_loss: 0.7011 - val_accuracy: 0.5133\n",
            "Epoch 42/300\n",
            "10/10 [==============================] - 0s 5ms/step - loss: 0.6959 - accuracy: 0.5265 - val_loss: 0.7004 - val_accuracy: 0.5158\n",
            "Epoch 43/300\n",
            "10/10 [==============================] - 0s 5ms/step - loss: 0.6958 - accuracy: 0.5285 - val_loss: 0.6993 - val_accuracy: 0.5133\n",
            "Epoch 44/300\n",
            "10/10 [==============================] - 0s 5ms/step - loss: 0.6944 - accuracy: 0.5292 - val_loss: 0.6986 - val_accuracy: 0.5183\n",
            "Epoch 45/300\n",
            "10/10 [==============================] - 0s 5ms/step - loss: 0.6912 - accuracy: 0.5308 - val_loss: 0.6977 - val_accuracy: 0.5217\n",
            "Epoch 46/300\n",
            "10/10 [==============================] - 0s 5ms/step - loss: 0.6934 - accuracy: 0.5325 - val_loss: 0.6967 - val_accuracy: 0.5225\n",
            "Epoch 47/300\n",
            "10/10 [==============================] - 0s 5ms/step - loss: 0.6905 - accuracy: 0.5333 - val_loss: 0.6959 - val_accuracy: 0.5258\n",
            "Epoch 48/300\n",
            "10/10 [==============================] - 0s 5ms/step - loss: 0.6910 - accuracy: 0.5350 - val_loss: 0.6948 - val_accuracy: 0.5258\n",
            "Epoch 49/300\n",
            "10/10 [==============================] - 0s 5ms/step - loss: 0.6902 - accuracy: 0.5369 - val_loss: 0.6941 - val_accuracy: 0.5308\n",
            "Epoch 50/300\n",
            "10/10 [==============================] - 0s 5ms/step - loss: 0.6883 - accuracy: 0.5421 - val_loss: 0.6933 - val_accuracy: 0.5300\n",
            "Epoch 51/300\n",
            "10/10 [==============================] - 0s 5ms/step - loss: 0.6877 - accuracy: 0.5415 - val_loss: 0.6923 - val_accuracy: 0.5317\n",
            "Epoch 52/300\n",
            "10/10 [==============================] - 0s 5ms/step - loss: 0.6873 - accuracy: 0.5442 - val_loss: 0.6915 - val_accuracy: 0.5325\n",
            "Epoch 53/300\n",
            "10/10 [==============================] - 0s 4ms/step - loss: 0.6866 - accuracy: 0.5465 - val_loss: 0.6903 - val_accuracy: 0.5383\n",
            "Epoch 54/300\n",
            "10/10 [==============================] - 0s 5ms/step - loss: 0.6859 - accuracy: 0.5479 - val_loss: 0.6898 - val_accuracy: 0.5392\n",
            "Epoch 55/300\n",
            "10/10 [==============================] - 0s 4ms/step - loss: 0.6845 - accuracy: 0.5517 - val_loss: 0.6888 - val_accuracy: 0.5417\n",
            "Epoch 56/300\n",
            "10/10 [==============================] - 0s 5ms/step - loss: 0.6841 - accuracy: 0.5525 - val_loss: 0.6878 - val_accuracy: 0.5442\n",
            "Epoch 57/300\n",
            "10/10 [==============================] - 0s 5ms/step - loss: 0.6833 - accuracy: 0.5537 - val_loss: 0.6868 - val_accuracy: 0.5417\n",
            "Epoch 58/300\n",
            "10/10 [==============================] - 0s 5ms/step - loss: 0.6811 - accuracy: 0.5548 - val_loss: 0.6862 - val_accuracy: 0.5483\n",
            "Epoch 59/300\n",
            "10/10 [==============================] - 0s 5ms/step - loss: 0.6814 - accuracy: 0.5558 - val_loss: 0.6856 - val_accuracy: 0.5567\n",
            "Epoch 60/300\n",
            "10/10 [==============================] - 0s 5ms/step - loss: 0.6810 - accuracy: 0.5606 - val_loss: 0.6845 - val_accuracy: 0.5542\n",
            "Epoch 61/300\n",
            "10/10 [==============================] - 0s 5ms/step - loss: 0.6806 - accuracy: 0.5631 - val_loss: 0.6836 - val_accuracy: 0.5592\n",
            "Epoch 62/300\n",
            "10/10 [==============================] - 0s 5ms/step - loss: 0.6790 - accuracy: 0.5640 - val_loss: 0.6826 - val_accuracy: 0.5558\n",
            "Epoch 63/300\n",
            "10/10 [==============================] - 0s 5ms/step - loss: 0.6769 - accuracy: 0.5644 - val_loss: 0.6819 - val_accuracy: 0.5625\n",
            "Epoch 64/300\n",
            "10/10 [==============================] - 0s 5ms/step - loss: 0.6774 - accuracy: 0.5677 - val_loss: 0.6808 - val_accuracy: 0.5633\n",
            "Epoch 65/300\n",
            "10/10 [==============================] - 0s 7ms/step - loss: 0.6761 - accuracy: 0.5692 - val_loss: 0.6800 - val_accuracy: 0.5625\n",
            "Epoch 66/300\n",
            "10/10 [==============================] - 0s 5ms/step - loss: 0.6751 - accuracy: 0.5704 - val_loss: 0.6794 - val_accuracy: 0.5683\n",
            "Epoch 67/300\n",
            "10/10 [==============================] - 0s 5ms/step - loss: 0.6745 - accuracy: 0.5735 - val_loss: 0.6784 - val_accuracy: 0.5708\n",
            "Epoch 68/300\n",
            "10/10 [==============================] - 0s 5ms/step - loss: 0.6749 - accuracy: 0.5744 - val_loss: 0.6775 - val_accuracy: 0.5700\n",
            "Epoch 69/300\n",
            "10/10 [==============================] - 0s 5ms/step - loss: 0.6725 - accuracy: 0.5744 - val_loss: 0.6770 - val_accuracy: 0.5758\n",
            "Epoch 70/300\n",
            "10/10 [==============================] - 0s 5ms/step - loss: 0.6727 - accuracy: 0.5771 - val_loss: 0.6761 - val_accuracy: 0.5808\n",
            "Epoch 71/300\n",
            "10/10 [==============================] - 0s 5ms/step - loss: 0.6720 - accuracy: 0.5788 - val_loss: 0.6751 - val_accuracy: 0.5758\n",
            "Epoch 72/300\n",
            "10/10 [==============================] - 0s 5ms/step - loss: 0.6714 - accuracy: 0.5815 - val_loss: 0.6743 - val_accuracy: 0.5800\n",
            "Epoch 73/300\n",
            "10/10 [==============================] - 0s 4ms/step - loss: 0.6709 - accuracy: 0.5825 - val_loss: 0.6734 - val_accuracy: 0.5833\n",
            "Epoch 74/300\n",
            "10/10 [==============================] - 0s 5ms/step - loss: 0.6704 - accuracy: 0.5846 - val_loss: 0.6725 - val_accuracy: 0.5817\n",
            "Epoch 75/300\n",
            "10/10 [==============================] - 0s 5ms/step - loss: 0.6681 - accuracy: 0.5846 - val_loss: 0.6719 - val_accuracy: 0.5892\n",
            "Epoch 76/300\n",
            "10/10 [==============================] - 0s 6ms/step - loss: 0.6670 - accuracy: 0.5858 - val_loss: 0.6710 - val_accuracy: 0.5908\n",
            "Epoch 77/300\n",
            "10/10 [==============================] - 0s 5ms/step - loss: 0.6651 - accuracy: 0.5890 - val_loss: 0.6703 - val_accuracy: 0.5950\n",
            "Epoch 78/300\n",
            "10/10 [==============================] - 0s 5ms/step - loss: 0.6644 - accuracy: 0.5915 - val_loss: 0.6696 - val_accuracy: 0.5958\n",
            "Epoch 79/300\n",
            "10/10 [==============================] - 0s 5ms/step - loss: 0.6644 - accuracy: 0.5917 - val_loss: 0.6686 - val_accuracy: 0.5967\n",
            "Epoch 80/300\n",
            "10/10 [==============================] - 0s 5ms/step - loss: 0.6637 - accuracy: 0.5933 - val_loss: 0.6677 - val_accuracy: 0.5992\n",
            "Epoch 81/300\n",
            "10/10 [==============================] - 0s 5ms/step - loss: 0.6622 - accuracy: 0.5956 - val_loss: 0.6671 - val_accuracy: 0.6008\n",
            "Epoch 82/300\n",
            "10/10 [==============================] - 0s 5ms/step - loss: 0.6627 - accuracy: 0.5958 - val_loss: 0.6660 - val_accuracy: 0.6042\n",
            "Epoch 83/300\n",
            "10/10 [==============================] - 0s 5ms/step - loss: 0.6614 - accuracy: 0.6010 - val_loss: 0.6650 - val_accuracy: 0.6042\n",
            "Epoch 84/300\n",
            "10/10 [==============================] - 0s 5ms/step - loss: 0.6614 - accuracy: 0.6008 - val_loss: 0.6642 - val_accuracy: 0.6058\n",
            "Epoch 85/300\n",
            "10/10 [==============================] - 0s 5ms/step - loss: 0.6602 - accuracy: 0.6015 - val_loss: 0.6634 - val_accuracy: 0.6067\n",
            "Epoch 86/300\n",
            "10/10 [==============================] - 0s 6ms/step - loss: 0.6592 - accuracy: 0.6033 - val_loss: 0.6625 - val_accuracy: 0.6092\n",
            "Epoch 87/300\n",
            "10/10 [==============================] - 0s 5ms/step - loss: 0.6581 - accuracy: 0.6054 - val_loss: 0.6621 - val_accuracy: 0.6108\n",
            "Epoch 88/300\n",
            "10/10 [==============================] - 0s 5ms/step - loss: 0.6572 - accuracy: 0.6075 - val_loss: 0.6611 - val_accuracy: 0.6117\n",
            "Epoch 89/300\n",
            "10/10 [==============================] - 0s 5ms/step - loss: 0.6562 - accuracy: 0.6087 - val_loss: 0.6603 - val_accuracy: 0.6142\n",
            "Epoch 90/300\n",
            "10/10 [==============================] - 0s 5ms/step - loss: 0.6561 - accuracy: 0.6106 - val_loss: 0.6591 - val_accuracy: 0.6150\n",
            "Epoch 91/300\n",
            "10/10 [==============================] - 0s 5ms/step - loss: 0.6557 - accuracy: 0.6133 - val_loss: 0.6585 - val_accuracy: 0.6175\n",
            "Epoch 92/300\n",
            "10/10 [==============================] - 0s 5ms/step - loss: 0.6540 - accuracy: 0.6167 - val_loss: 0.6579 - val_accuracy: 0.6175\n",
            "Epoch 93/300\n",
            "10/10 [==============================] - 0s 5ms/step - loss: 0.6529 - accuracy: 0.6156 - val_loss: 0.6571 - val_accuracy: 0.6183\n",
            "Epoch 94/300\n",
            "10/10 [==============================] - 0s 5ms/step - loss: 0.6522 - accuracy: 0.6181 - val_loss: 0.6560 - val_accuracy: 0.6217\n",
            "Epoch 95/300\n",
            "10/10 [==============================] - 0s 6ms/step - loss: 0.6532 - accuracy: 0.6221 - val_loss: 0.6551 - val_accuracy: 0.6250\n",
            "Epoch 96/300\n",
            "10/10 [==============================] - 0s 4ms/step - loss: 0.6512 - accuracy: 0.6250 - val_loss: 0.6543 - val_accuracy: 0.6258\n",
            "Epoch 97/300\n",
            "10/10 [==============================] - 0s 5ms/step - loss: 0.6500 - accuracy: 0.6244 - val_loss: 0.6534 - val_accuracy: 0.6258\n",
            "Epoch 98/300\n",
            "10/10 [==============================] - 0s 5ms/step - loss: 0.6503 - accuracy: 0.6260 - val_loss: 0.6527 - val_accuracy: 0.6267\n",
            "Epoch 99/300\n",
            "10/10 [==============================] - 0s 5ms/step - loss: 0.6480 - accuracy: 0.6275 - val_loss: 0.6520 - val_accuracy: 0.6300\n",
            "Epoch 100/300\n",
            "10/10 [==============================] - 0s 5ms/step - loss: 0.6482 - accuracy: 0.6310 - val_loss: 0.6509 - val_accuracy: 0.6300\n",
            "Epoch 101/300\n",
            "10/10 [==============================] - 0s 5ms/step - loss: 0.6479 - accuracy: 0.6319 - val_loss: 0.6501 - val_accuracy: 0.6308\n",
            "Epoch 102/300\n",
            "10/10 [==============================] - 0s 5ms/step - loss: 0.6476 - accuracy: 0.6340 - val_loss: 0.6494 - val_accuracy: 0.6342\n",
            "Epoch 103/300\n",
            "10/10 [==============================] - 0s 5ms/step - loss: 0.6441 - accuracy: 0.6338 - val_loss: 0.6489 - val_accuracy: 0.6417\n",
            "Epoch 104/300\n",
            "10/10 [==============================] - 0s 5ms/step - loss: 0.6439 - accuracy: 0.6356 - val_loss: 0.6480 - val_accuracy: 0.6417\n",
            "Epoch 105/300\n",
            "10/10 [==============================] - 0s 5ms/step - loss: 0.6443 - accuracy: 0.6385 - val_loss: 0.6471 - val_accuracy: 0.6433\n",
            "Epoch 106/300\n",
            "10/10 [==============================] - 0s 5ms/step - loss: 0.6437 - accuracy: 0.6398 - val_loss: 0.6462 - val_accuracy: 0.6417\n",
            "Epoch 107/300\n",
            "10/10 [==============================] - 0s 5ms/step - loss: 0.6427 - accuracy: 0.6394 - val_loss: 0.6453 - val_accuracy: 0.6417\n",
            "Epoch 108/300\n",
            "10/10 [==============================] - 0s 5ms/step - loss: 0.6420 - accuracy: 0.6427 - val_loss: 0.6445 - val_accuracy: 0.6442\n",
            "Epoch 109/300\n",
            "10/10 [==============================] - 0s 5ms/step - loss: 0.6409 - accuracy: 0.6435 - val_loss: 0.6439 - val_accuracy: 0.6475\n",
            "Epoch 110/300\n",
            "10/10 [==============================] - 0s 5ms/step - loss: 0.6402 - accuracy: 0.6465 - val_loss: 0.6430 - val_accuracy: 0.6492\n",
            "Epoch 111/300\n",
            "10/10 [==============================] - 0s 5ms/step - loss: 0.6390 - accuracy: 0.6460 - val_loss: 0.6424 - val_accuracy: 0.6508\n",
            "Epoch 112/300\n",
            "10/10 [==============================] - 0s 5ms/step - loss: 0.6378 - accuracy: 0.6485 - val_loss: 0.6417 - val_accuracy: 0.6525\n",
            "Epoch 113/300\n",
            "10/10 [==============================] - 0s 5ms/step - loss: 0.6378 - accuracy: 0.6498 - val_loss: 0.6410 - val_accuracy: 0.6533\n",
            "Epoch 114/300\n",
            "10/10 [==============================] - 0s 6ms/step - loss: 0.6374 - accuracy: 0.6531 - val_loss: 0.6398 - val_accuracy: 0.6575\n",
            "Epoch 115/300\n",
            "10/10 [==============================] - 0s 5ms/step - loss: 0.6365 - accuracy: 0.6523 - val_loss: 0.6392 - val_accuracy: 0.6575\n",
            "Epoch 116/300\n",
            "10/10 [==============================] - 0s 5ms/step - loss: 0.6360 - accuracy: 0.6533 - val_loss: 0.6385 - val_accuracy: 0.6600\n",
            "Epoch 117/300\n",
            "10/10 [==============================] - 0s 5ms/step - loss: 0.6337 - accuracy: 0.6556 - val_loss: 0.6381 - val_accuracy: 0.6650\n",
            "Epoch 118/300\n",
            "10/10 [==============================] - 0s 5ms/step - loss: 0.6355 - accuracy: 0.6567 - val_loss: 0.6372 - val_accuracy: 0.6658\n",
            "Epoch 119/300\n",
            "10/10 [==============================] - 0s 5ms/step - loss: 0.6318 - accuracy: 0.6573 - val_loss: 0.6366 - val_accuracy: 0.6692\n",
            "Epoch 120/300\n",
            "10/10 [==============================] - 0s 5ms/step - loss: 0.6334 - accuracy: 0.6598 - val_loss: 0.6356 - val_accuracy: 0.6675\n",
            "Epoch 121/300\n",
            "10/10 [==============================] - 0s 5ms/step - loss: 0.6324 - accuracy: 0.6604 - val_loss: 0.6348 - val_accuracy: 0.6700\n",
            "Epoch 122/300\n",
            "10/10 [==============================] - 0s 5ms/step - loss: 0.6309 - accuracy: 0.6625 - val_loss: 0.6341 - val_accuracy: 0.6700\n",
            "Epoch 123/300\n",
            "10/10 [==============================] - 0s 6ms/step - loss: 0.6303 - accuracy: 0.6646 - val_loss: 0.6333 - val_accuracy: 0.6708\n",
            "Epoch 124/300\n",
            "10/10 [==============================] - 0s 5ms/step - loss: 0.6285 - accuracy: 0.6646 - val_loss: 0.6324 - val_accuracy: 0.6750\n",
            "Epoch 125/300\n",
            "10/10 [==============================] - 0s 5ms/step - loss: 0.6284 - accuracy: 0.6671 - val_loss: 0.6319 - val_accuracy: 0.6758\n",
            "Epoch 126/300\n",
            "10/10 [==============================] - 0s 5ms/step - loss: 0.6278 - accuracy: 0.6681 - val_loss: 0.6311 - val_accuracy: 0.6758\n",
            "Epoch 127/300\n",
            "10/10 [==============================] - 0s 5ms/step - loss: 0.6274 - accuracy: 0.6692 - val_loss: 0.6304 - val_accuracy: 0.6808\n",
            "Epoch 128/300\n",
            "10/10 [==============================] - 0s 5ms/step - loss: 0.6264 - accuracy: 0.6710 - val_loss: 0.6294 - val_accuracy: 0.6783\n",
            "Epoch 129/300\n",
            "10/10 [==============================] - 0s 5ms/step - loss: 0.6256 - accuracy: 0.6733 - val_loss: 0.6287 - val_accuracy: 0.6783\n",
            "Epoch 130/300\n",
            "10/10 [==============================] - 0s 5ms/step - loss: 0.6253 - accuracy: 0.6740 - val_loss: 0.6279 - val_accuracy: 0.6817\n",
            "Epoch 131/300\n",
            "10/10 [==============================] - 0s 4ms/step - loss: 0.6245 - accuracy: 0.6760 - val_loss: 0.6271 - val_accuracy: 0.6833\n",
            "Epoch 132/300\n",
            "10/10 [==============================] - 0s 6ms/step - loss: 0.6236 - accuracy: 0.6785 - val_loss: 0.6264 - val_accuracy: 0.6842\n",
            "Epoch 133/300\n",
            "10/10 [==============================] - 0s 5ms/step - loss: 0.6225 - accuracy: 0.6775 - val_loss: 0.6257 - val_accuracy: 0.6850\n",
            "Epoch 134/300\n",
            "10/10 [==============================] - 0s 5ms/step - loss: 0.6237 - accuracy: 0.6815 - val_loss: 0.6249 - val_accuracy: 0.6900\n",
            "Epoch 135/300\n",
            "10/10 [==============================] - 0s 5ms/step - loss: 0.6210 - accuracy: 0.6825 - val_loss: 0.6244 - val_accuracy: 0.6858\n",
            "Epoch 136/300\n",
            "10/10 [==============================] - 0s 5ms/step - loss: 0.6199 - accuracy: 0.6825 - val_loss: 0.6234 - val_accuracy: 0.6908\n",
            "Epoch 137/300\n",
            "10/10 [==============================] - 0s 5ms/step - loss: 0.6210 - accuracy: 0.6850 - val_loss: 0.6226 - val_accuracy: 0.6917\n",
            "Epoch 138/300\n",
            "10/10 [==============================] - 0s 5ms/step - loss: 0.6189 - accuracy: 0.6877 - val_loss: 0.6219 - val_accuracy: 0.6950\n",
            "Epoch 139/300\n",
            "10/10 [==============================] - 0s 5ms/step - loss: 0.6191 - accuracy: 0.6881 - val_loss: 0.6211 - val_accuracy: 0.6958\n",
            "Epoch 140/300\n",
            "10/10 [==============================] - 0s 5ms/step - loss: 0.6181 - accuracy: 0.6898 - val_loss: 0.6204 - val_accuracy: 0.6967\n",
            "Epoch 141/300\n",
            "10/10 [==============================] - 0s 5ms/step - loss: 0.6175 - accuracy: 0.6904 - val_loss: 0.6196 - val_accuracy: 0.6992\n",
            "Epoch 142/300\n",
            "10/10 [==============================] - 0s 6ms/step - loss: 0.6159 - accuracy: 0.6929 - val_loss: 0.6189 - val_accuracy: 0.6983\n",
            "Epoch 143/300\n",
            "10/10 [==============================] - 0s 5ms/step - loss: 0.6154 - accuracy: 0.6929 - val_loss: 0.6181 - val_accuracy: 0.6992\n",
            "Epoch 144/300\n",
            "10/10 [==============================] - 0s 5ms/step - loss: 0.6144 - accuracy: 0.6944 - val_loss: 0.6174 - val_accuracy: 0.7000\n",
            "Epoch 145/300\n",
            "10/10 [==============================] - 0s 5ms/step - loss: 0.6140 - accuracy: 0.6963 - val_loss: 0.6167 - val_accuracy: 0.7008\n",
            "Epoch 146/300\n",
            "10/10 [==============================] - 0s 6ms/step - loss: 0.6126 - accuracy: 0.6975 - val_loss: 0.6161 - val_accuracy: 0.7017\n",
            "Epoch 147/300\n",
            "10/10 [==============================] - 0s 5ms/step - loss: 0.6121 - accuracy: 0.6963 - val_loss: 0.6153 - val_accuracy: 0.7025\n",
            "Epoch 148/300\n",
            "10/10 [==============================] - 0s 5ms/step - loss: 0.6121 - accuracy: 0.6996 - val_loss: 0.6144 - val_accuracy: 0.7117\n",
            "Epoch 149/300\n",
            "10/10 [==============================] - 0s 5ms/step - loss: 0.6112 - accuracy: 0.7013 - val_loss: 0.6137 - val_accuracy: 0.7117\n",
            "Epoch 150/300\n",
            "10/10 [==============================] - 0s 5ms/step - loss: 0.6111 - accuracy: 0.7021 - val_loss: 0.6129 - val_accuracy: 0.7150\n",
            "Epoch 151/300\n",
            "10/10 [==============================] - 0s 6ms/step - loss: 0.6093 - accuracy: 0.7050 - val_loss: 0.6126 - val_accuracy: 0.7075\n",
            "Epoch 152/300\n",
            "10/10 [==============================] - 0s 5ms/step - loss: 0.6089 - accuracy: 0.7035 - val_loss: 0.6115 - val_accuracy: 0.7142\n",
            "Epoch 153/300\n",
            "10/10 [==============================] - 0s 5ms/step - loss: 0.6088 - accuracy: 0.7067 - val_loss: 0.6108 - val_accuracy: 0.7167\n",
            "Epoch 154/300\n",
            "10/10 [==============================] - 0s 5ms/step - loss: 0.6078 - accuracy: 0.7073 - val_loss: 0.6101 - val_accuracy: 0.7150\n",
            "Epoch 155/300\n",
            "10/10 [==============================] - 0s 5ms/step - loss: 0.6064 - accuracy: 0.7085 - val_loss: 0.6094 - val_accuracy: 0.7158\n",
            "Epoch 156/300\n",
            "10/10 [==============================] - 0s 5ms/step - loss: 0.6064 - accuracy: 0.7092 - val_loss: 0.6085 - val_accuracy: 0.7200\n",
            "Epoch 157/300\n",
            "10/10 [==============================] - 0s 6ms/step - loss: 0.6052 - accuracy: 0.7098 - val_loss: 0.6079 - val_accuracy: 0.7183\n",
            "Epoch 158/300\n",
            "10/10 [==============================] - 0s 5ms/step - loss: 0.6054 - accuracy: 0.7092 - val_loss: 0.6071 - val_accuracy: 0.7192\n",
            "Epoch 159/300\n",
            "10/10 [==============================] - 0s 5ms/step - loss: 0.6037 - accuracy: 0.7110 - val_loss: 0.6064 - val_accuracy: 0.7217\n",
            "Epoch 160/300\n",
            "10/10 [==============================] - 0s 5ms/step - loss: 0.6035 - accuracy: 0.7135 - val_loss: 0.6055 - val_accuracy: 0.7267\n",
            "Epoch 161/300\n",
            "10/10 [==============================] - 0s 6ms/step - loss: 0.6034 - accuracy: 0.7160 - val_loss: 0.6048 - val_accuracy: 0.7292\n",
            "Epoch 162/300\n",
            "10/10 [==============================] - 0s 5ms/step - loss: 0.6017 - accuracy: 0.7183 - val_loss: 0.6042 - val_accuracy: 0.7275\n",
            "Epoch 163/300\n",
            "10/10 [==============================] - 0s 5ms/step - loss: 0.6023 - accuracy: 0.7179 - val_loss: 0.6035 - val_accuracy: 0.7275\n",
            "Epoch 164/300\n",
            "10/10 [==============================] - 0s 5ms/step - loss: 0.5988 - accuracy: 0.7173 - val_loss: 0.6029 - val_accuracy: 0.7317\n",
            "Epoch 165/300\n",
            "10/10 [==============================] - 0s 5ms/step - loss: 0.6006 - accuracy: 0.7181 - val_loss: 0.6020 - val_accuracy: 0.7383\n",
            "Epoch 166/300\n",
            "10/10 [==============================] - 0s 5ms/step - loss: 0.5984 - accuracy: 0.7223 - val_loss: 0.6014 - val_accuracy: 0.7375\n",
            "Epoch 167/300\n",
            "10/10 [==============================] - 0s 5ms/step - loss: 0.5981 - accuracy: 0.7225 - val_loss: 0.6008 - val_accuracy: 0.7367\n",
            "Epoch 168/300\n",
            "10/10 [==============================] - 0s 5ms/step - loss: 0.5971 - accuracy: 0.7244 - val_loss: 0.6004 - val_accuracy: 0.7333\n",
            "Epoch 169/300\n",
            "10/10 [==============================] - 0s 5ms/step - loss: 0.5963 - accuracy: 0.7231 - val_loss: 0.5998 - val_accuracy: 0.7325\n",
            "Epoch 170/300\n",
            "10/10 [==============================] - 0s 5ms/step - loss: 0.5952 - accuracy: 0.7258 - val_loss: 0.5991 - val_accuracy: 0.7342\n",
            "Epoch 171/300\n",
            "10/10 [==============================] - 0s 5ms/step - loss: 0.5959 - accuracy: 0.7242 - val_loss: 0.5981 - val_accuracy: 0.7475\n",
            "Epoch 172/300\n",
            "10/10 [==============================] - 0s 5ms/step - loss: 0.5954 - accuracy: 0.7269 - val_loss: 0.5975 - val_accuracy: 0.7467\n",
            "Epoch 173/300\n",
            "10/10 [==============================] - 0s 5ms/step - loss: 0.5955 - accuracy: 0.7285 - val_loss: 0.5969 - val_accuracy: 0.7442\n",
            "Epoch 174/300\n",
            "10/10 [==============================] - 0s 4ms/step - loss: 0.5929 - accuracy: 0.7287 - val_loss: 0.5963 - val_accuracy: 0.7433\n",
            "Epoch 175/300\n",
            "10/10 [==============================] - 0s 5ms/step - loss: 0.5934 - accuracy: 0.7265 - val_loss: 0.5952 - val_accuracy: 0.7475\n",
            "Epoch 176/300\n",
            "10/10 [==============================] - 0s 5ms/step - loss: 0.5926 - accuracy: 0.7319 - val_loss: 0.5945 - val_accuracy: 0.7500\n",
            "Epoch 177/300\n",
            "10/10 [==============================] - 0s 5ms/step - loss: 0.5915 - accuracy: 0.7348 - val_loss: 0.5942 - val_accuracy: 0.7500\n",
            "Epoch 178/300\n",
            "10/10 [==============================] - 0s 5ms/step - loss: 0.5927 - accuracy: 0.7327 - val_loss: 0.5934 - val_accuracy: 0.7517\n",
            "Epoch 179/300\n",
            "10/10 [==============================] - 0s 6ms/step - loss: 0.5915 - accuracy: 0.7331 - val_loss: 0.5927 - val_accuracy: 0.7517\n",
            "Epoch 180/300\n",
            "10/10 [==============================] - 0s 5ms/step - loss: 0.5896 - accuracy: 0.7404 - val_loss: 0.5923 - val_accuracy: 0.7542\n",
            "Epoch 181/300\n",
            "10/10 [==============================] - 0s 5ms/step - loss: 0.5885 - accuracy: 0.7340 - val_loss: 0.5916 - val_accuracy: 0.7542\n",
            "Epoch 182/300\n",
            "10/10 [==============================] - 0s 5ms/step - loss: 0.5884 - accuracy: 0.7358 - val_loss: 0.5910 - val_accuracy: 0.7542\n",
            "Epoch 183/300\n",
            "10/10 [==============================] - 0s 5ms/step - loss: 0.5878 - accuracy: 0.7362 - val_loss: 0.5905 - val_accuracy: 0.7542\n",
            "Epoch 184/300\n",
            "10/10 [==============================] - 0s 5ms/step - loss: 0.5877 - accuracy: 0.7323 - val_loss: 0.5895 - val_accuracy: 0.7542\n",
            "Epoch 185/300\n",
            "10/10 [==============================] - 0s 5ms/step - loss: 0.5870 - accuracy: 0.7417 - val_loss: 0.5891 - val_accuracy: 0.7592\n",
            "Epoch 186/300\n",
            "10/10 [==============================] - 0s 5ms/step - loss: 0.5855 - accuracy: 0.7373 - val_loss: 0.5884 - val_accuracy: 0.7592\n",
            "Epoch 187/300\n",
            "10/10 [==============================] - 0s 5ms/step - loss: 0.5846 - accuracy: 0.7406 - val_loss: 0.5877 - val_accuracy: 0.7583\n",
            "Epoch 188/300\n",
            "10/10 [==============================] - 0s 5ms/step - loss: 0.5847 - accuracy: 0.7415 - val_loss: 0.5871 - val_accuracy: 0.7617\n",
            "Epoch 189/300\n",
            "10/10 [==============================] - 0s 5ms/step - loss: 0.5836 - accuracy: 0.7446 - val_loss: 0.5864 - val_accuracy: 0.7608\n",
            "Epoch 190/300\n",
            "10/10 [==============================] - 0s 5ms/step - loss: 0.5828 - accuracy: 0.7425 - val_loss: 0.5856 - val_accuracy: 0.7633\n",
            "Epoch 191/300\n",
            "10/10 [==============================] - 0s 5ms/step - loss: 0.5834 - accuracy: 0.7440 - val_loss: 0.5848 - val_accuracy: 0.7650\n",
            "Epoch 192/300\n",
            "10/10 [==============================] - 0s 5ms/step - loss: 0.5828 - accuracy: 0.7469 - val_loss: 0.5844 - val_accuracy: 0.7642\n",
            "Epoch 193/300\n",
            "10/10 [==============================] - 0s 5ms/step - loss: 0.5821 - accuracy: 0.7475 - val_loss: 0.5837 - val_accuracy: 0.7650\n",
            "Epoch 194/300\n",
            "10/10 [==============================] - 0s 5ms/step - loss: 0.5824 - accuracy: 0.7460 - val_loss: 0.5829 - val_accuracy: 0.7667\n",
            "Epoch 195/300\n",
            "10/10 [==============================] - 0s 5ms/step - loss: 0.5802 - accuracy: 0.7529 - val_loss: 0.5826 - val_accuracy: 0.7667\n",
            "Epoch 196/300\n",
            "10/10 [==============================] - 0s 5ms/step - loss: 0.5788 - accuracy: 0.7490 - val_loss: 0.5819 - val_accuracy: 0.7675\n",
            "Epoch 197/300\n",
            "10/10 [==============================] - 0s 5ms/step - loss: 0.5786 - accuracy: 0.7483 - val_loss: 0.5811 - val_accuracy: 0.7683\n",
            "Epoch 198/300\n",
            "10/10 [==============================] - 0s 6ms/step - loss: 0.5804 - accuracy: 0.7529 - val_loss: 0.5805 - val_accuracy: 0.7667\n",
            "Epoch 199/300\n",
            "10/10 [==============================] - 0s 5ms/step - loss: 0.5787 - accuracy: 0.7540 - val_loss: 0.5800 - val_accuracy: 0.7683\n",
            "Epoch 200/300\n",
            "10/10 [==============================] - 0s 5ms/step - loss: 0.5767 - accuracy: 0.7542 - val_loss: 0.5793 - val_accuracy: 0.7700\n",
            "Epoch 201/300\n",
            "10/10 [==============================] - 0s 5ms/step - loss: 0.5776 - accuracy: 0.7533 - val_loss: 0.5785 - val_accuracy: 0.7692\n",
            "Epoch 202/300\n",
            "10/10 [==============================] - 0s 5ms/step - loss: 0.5773 - accuracy: 0.7567 - val_loss: 0.5779 - val_accuracy: 0.7708\n",
            "Epoch 203/300\n",
            "10/10 [==============================] - 0s 5ms/step - loss: 0.5751 - accuracy: 0.7604 - val_loss: 0.5775 - val_accuracy: 0.7708\n",
            "Epoch 204/300\n",
            "10/10 [==============================] - 0s 5ms/step - loss: 0.5746 - accuracy: 0.7558 - val_loss: 0.5769 - val_accuracy: 0.7708\n",
            "Epoch 205/300\n",
            "10/10 [==============================] - 0s 4ms/step - loss: 0.5727 - accuracy: 0.7548 - val_loss: 0.5763 - val_accuracy: 0.7708\n",
            "Epoch 206/300\n",
            "10/10 [==============================] - 0s 5ms/step - loss: 0.5734 - accuracy: 0.7542 - val_loss: 0.5755 - val_accuracy: 0.7717\n",
            "Epoch 207/300\n",
            "10/10 [==============================] - 0s 5ms/step - loss: 0.5732 - accuracy: 0.7600 - val_loss: 0.5749 - val_accuracy: 0.7725\n",
            "Epoch 208/300\n",
            "10/10 [==============================] - 0s 6ms/step - loss: 0.5712 - accuracy: 0.7590 - val_loss: 0.5744 - val_accuracy: 0.7725\n",
            "Epoch 209/300\n",
            "10/10 [==============================] - 0s 5ms/step - loss: 0.5722 - accuracy: 0.7581 - val_loss: 0.5736 - val_accuracy: 0.7725\n",
            "Epoch 210/300\n",
            "10/10 [==============================] - 0s 5ms/step - loss: 0.5706 - accuracy: 0.7617 - val_loss: 0.5729 - val_accuracy: 0.7742\n",
            "Epoch 211/300\n",
            "10/10 [==============================] - 0s 5ms/step - loss: 0.5709 - accuracy: 0.7654 - val_loss: 0.5724 - val_accuracy: 0.7742\n",
            "Epoch 212/300\n",
            "10/10 [==============================] - 0s 5ms/step - loss: 0.5710 - accuracy: 0.7623 - val_loss: 0.5716 - val_accuracy: 0.7767\n",
            "Epoch 213/300\n",
            "10/10 [==============================] - 0s 5ms/step - loss: 0.5684 - accuracy: 0.7688 - val_loss: 0.5711 - val_accuracy: 0.7775\n",
            "Epoch 214/300\n",
            "10/10 [==============================] - 0s 5ms/step - loss: 0.5701 - accuracy: 0.7671 - val_loss: 0.5705 - val_accuracy: 0.7775\n",
            "Epoch 215/300\n",
            "10/10 [==============================] - 0s 5ms/step - loss: 0.5696 - accuracy: 0.7671 - val_loss: 0.5700 - val_accuracy: 0.7792\n",
            "Epoch 216/300\n",
            "10/10 [==============================] - 0s 5ms/step - loss: 0.5683 - accuracy: 0.7673 - val_loss: 0.5693 - val_accuracy: 0.7792\n",
            "Epoch 217/300\n",
            "10/10 [==============================] - 0s 6ms/step - loss: 0.5676 - accuracy: 0.7702 - val_loss: 0.5689 - val_accuracy: 0.7758\n",
            "Epoch 218/300\n",
            "10/10 [==============================] - 0s 5ms/step - loss: 0.5676 - accuracy: 0.7667 - val_loss: 0.5683 - val_accuracy: 0.7775\n",
            "Epoch 219/300\n",
            "10/10 [==============================] - 0s 5ms/step - loss: 0.5676 - accuracy: 0.7669 - val_loss: 0.5676 - val_accuracy: 0.7800\n",
            "Epoch 220/300\n",
            "10/10 [==============================] - 0s 5ms/step - loss: 0.5664 - accuracy: 0.7713 - val_loss: 0.5671 - val_accuracy: 0.7792\n",
            "Epoch 221/300\n",
            "10/10 [==============================] - 0s 5ms/step - loss: 0.5652 - accuracy: 0.7704 - val_loss: 0.5665 - val_accuracy: 0.7783\n",
            "Epoch 222/300\n",
            "10/10 [==============================] - 0s 5ms/step - loss: 0.5648 - accuracy: 0.7710 - val_loss: 0.5661 - val_accuracy: 0.7775\n",
            "Epoch 223/300\n",
            "10/10 [==============================] - 0s 5ms/step - loss: 0.5627 - accuracy: 0.7694 - val_loss: 0.5655 - val_accuracy: 0.7783\n",
            "Epoch 224/300\n",
            "10/10 [==============================] - 0s 5ms/step - loss: 0.5651 - accuracy: 0.7735 - val_loss: 0.5648 - val_accuracy: 0.7792\n",
            "Epoch 225/300\n",
            "10/10 [==============================] - 0s 5ms/step - loss: 0.5639 - accuracy: 0.7729 - val_loss: 0.5641 - val_accuracy: 0.7825\n",
            "Epoch 226/300\n",
            "10/10 [==============================] - 0s 5ms/step - loss: 0.5622 - accuracy: 0.7775 - val_loss: 0.5636 - val_accuracy: 0.7825\n",
            "Epoch 227/300\n",
            "10/10 [==============================] - 0s 6ms/step - loss: 0.5621 - accuracy: 0.7723 - val_loss: 0.5629 - val_accuracy: 0.7850\n",
            "Epoch 228/300\n",
            "10/10 [==============================] - 0s 5ms/step - loss: 0.5609 - accuracy: 0.7769 - val_loss: 0.5624 - val_accuracy: 0.7833\n",
            "Epoch 229/300\n",
            "10/10 [==============================] - 0s 5ms/step - loss: 0.5606 - accuracy: 0.7765 - val_loss: 0.5617 - val_accuracy: 0.7867\n",
            "Epoch 230/300\n",
            "10/10 [==============================] - 0s 5ms/step - loss: 0.5607 - accuracy: 0.7806 - val_loss: 0.5612 - val_accuracy: 0.7858\n",
            "Epoch 231/300\n",
            "10/10 [==============================] - 0s 6ms/step - loss: 0.5597 - accuracy: 0.7758 - val_loss: 0.5605 - val_accuracy: 0.7883\n",
            "Epoch 232/300\n",
            "10/10 [==============================] - 0s 5ms/step - loss: 0.5581 - accuracy: 0.7817 - val_loss: 0.5602 - val_accuracy: 0.7850\n",
            "Epoch 233/300\n",
            "10/10 [==============================] - 0s 5ms/step - loss: 0.5586 - accuracy: 0.7792 - val_loss: 0.5597 - val_accuracy: 0.7833\n",
            "Epoch 234/300\n",
            "10/10 [==============================] - 0s 5ms/step - loss: 0.5583 - accuracy: 0.7760 - val_loss: 0.5588 - val_accuracy: 0.7892\n",
            "Epoch 235/300\n",
            "10/10 [==============================] - 0s 5ms/step - loss: 0.5575 - accuracy: 0.7817 - val_loss: 0.5583 - val_accuracy: 0.7892\n",
            "Epoch 236/300\n",
            "10/10 [==============================] - 0s 6ms/step - loss: 0.5570 - accuracy: 0.7823 - val_loss: 0.5580 - val_accuracy: 0.7842\n",
            "Epoch 237/300\n",
            "10/10 [==============================] - 0s 5ms/step - loss: 0.5565 - accuracy: 0.7804 - val_loss: 0.5572 - val_accuracy: 0.7875\n",
            "Epoch 238/300\n",
            "10/10 [==============================] - 0s 5ms/step - loss: 0.5558 - accuracy: 0.7827 - val_loss: 0.5567 - val_accuracy: 0.7900\n",
            "Epoch 239/300\n",
            "10/10 [==============================] - 0s 5ms/step - loss: 0.5551 - accuracy: 0.7810 - val_loss: 0.5561 - val_accuracy: 0.7908\n",
            "Epoch 240/300\n",
            "10/10 [==============================] - 0s 5ms/step - loss: 0.5533 - accuracy: 0.7837 - val_loss: 0.5557 - val_accuracy: 0.7858\n",
            "Epoch 241/300\n",
            "10/10 [==============================] - 0s 5ms/step - loss: 0.5531 - accuracy: 0.7844 - val_loss: 0.5551 - val_accuracy: 0.7883\n",
            "Epoch 242/300\n",
            "10/10 [==============================] - 0s 5ms/step - loss: 0.5525 - accuracy: 0.7835 - val_loss: 0.5544 - val_accuracy: 0.7917\n",
            "Epoch 243/300\n",
            "10/10 [==============================] - 0s 5ms/step - loss: 0.5530 - accuracy: 0.7854 - val_loss: 0.5537 - val_accuracy: 0.7950\n",
            "Epoch 244/300\n",
            "10/10 [==============================] - 0s 5ms/step - loss: 0.5536 - accuracy: 0.7854 - val_loss: 0.5530 - val_accuracy: 0.7942\n",
            "Epoch 245/300\n",
            "10/10 [==============================] - 0s 6ms/step - loss: 0.5506 - accuracy: 0.7877 - val_loss: 0.5528 - val_accuracy: 0.7917\n",
            "Epoch 246/300\n",
            "10/10 [==============================] - 0s 5ms/step - loss: 0.5507 - accuracy: 0.7869 - val_loss: 0.5521 - val_accuracy: 0.7967\n",
            "Epoch 247/300\n",
            "10/10 [==============================] - 0s 5ms/step - loss: 0.5503 - accuracy: 0.7867 - val_loss: 0.5516 - val_accuracy: 0.7950\n",
            "Epoch 248/300\n",
            "10/10 [==============================] - 0s 5ms/step - loss: 0.5493 - accuracy: 0.7869 - val_loss: 0.5511 - val_accuracy: 0.7942\n",
            "Epoch 249/300\n",
            "10/10 [==============================] - 0s 6ms/step - loss: 0.5483 - accuracy: 0.7869 - val_loss: 0.5505 - val_accuracy: 0.7942\n",
            "Epoch 250/300\n",
            "10/10 [==============================] - 0s 5ms/step - loss: 0.5477 - accuracy: 0.7879 - val_loss: 0.5500 - val_accuracy: 0.7942\n",
            "Epoch 251/300\n",
            "10/10 [==============================] - 0s 6ms/step - loss: 0.5482 - accuracy: 0.7885 - val_loss: 0.5491 - val_accuracy: 0.7983\n",
            "Epoch 252/300\n",
            "10/10 [==============================] - 0s 6ms/step - loss: 0.5474 - accuracy: 0.7898 - val_loss: 0.5487 - val_accuracy: 0.7958\n",
            "Epoch 253/300\n",
            "10/10 [==============================] - 0s 5ms/step - loss: 0.5471 - accuracy: 0.7896 - val_loss: 0.5482 - val_accuracy: 0.7958\n",
            "Epoch 254/300\n",
            "10/10 [==============================] - 0s 5ms/step - loss: 0.5458 - accuracy: 0.7900 - val_loss: 0.5476 - val_accuracy: 0.7967\n",
            "Epoch 255/300\n",
            "10/10 [==============================] - 0s 6ms/step - loss: 0.5454 - accuracy: 0.7910 - val_loss: 0.5471 - val_accuracy: 0.7992\n",
            "Epoch 256/300\n",
            "10/10 [==============================] - 0s 5ms/step - loss: 0.5450 - accuracy: 0.7908 - val_loss: 0.5466 - val_accuracy: 0.7975\n",
            "Epoch 257/300\n",
            "10/10 [==============================] - 0s 5ms/step - loss: 0.5432 - accuracy: 0.7898 - val_loss: 0.5460 - val_accuracy: 0.7983\n",
            "Epoch 258/300\n",
            "10/10 [==============================] - 0s 5ms/step - loss: 0.5439 - accuracy: 0.7923 - val_loss: 0.5453 - val_accuracy: 0.7992\n",
            "Epoch 259/300\n",
            "10/10 [==============================] - 0s 5ms/step - loss: 0.5448 - accuracy: 0.7923 - val_loss: 0.5446 - val_accuracy: 0.8083\n",
            "Epoch 260/300\n",
            "10/10 [==============================] - 0s 5ms/step - loss: 0.5429 - accuracy: 0.7935 - val_loss: 0.5443 - val_accuracy: 0.8008\n",
            "Epoch 261/300\n",
            "10/10 [==============================] - 0s 5ms/step - loss: 0.5413 - accuracy: 0.7927 - val_loss: 0.5437 - val_accuracy: 0.8008\n",
            "Epoch 262/300\n",
            "10/10 [==============================] - 0s 5ms/step - loss: 0.5420 - accuracy: 0.7933 - val_loss: 0.5430 - val_accuracy: 0.8008\n",
            "Epoch 263/300\n",
            "10/10 [==============================] - 0s 5ms/step - loss: 0.5414 - accuracy: 0.7931 - val_loss: 0.5425 - val_accuracy: 0.8017\n",
            "Epoch 264/300\n",
            "10/10 [==============================] - 0s 6ms/step - loss: 0.5417 - accuracy: 0.7937 - val_loss: 0.5418 - val_accuracy: 0.8100\n",
            "Epoch 265/300\n",
            "10/10 [==============================] - 0s 5ms/step - loss: 0.5406 - accuracy: 0.7962 - val_loss: 0.5415 - val_accuracy: 0.8033\n",
            "Epoch 266/300\n",
            "10/10 [==============================] - 0s 5ms/step - loss: 0.5404 - accuracy: 0.7935 - val_loss: 0.5409 - val_accuracy: 0.8050\n",
            "Epoch 267/300\n",
            "10/10 [==============================] - 0s 5ms/step - loss: 0.5385 - accuracy: 0.7948 - val_loss: 0.5404 - val_accuracy: 0.8050\n",
            "Epoch 268/300\n",
            "10/10 [==============================] - 0s 5ms/step - loss: 0.5381 - accuracy: 0.7954 - val_loss: 0.5397 - val_accuracy: 0.8092\n",
            "Epoch 269/300\n",
            "10/10 [==============================] - 0s 5ms/step - loss: 0.5400 - accuracy: 0.7958 - val_loss: 0.5390 - val_accuracy: 0.8108\n",
            "Epoch 270/300\n",
            "10/10 [==============================] - 0s 5ms/step - loss: 0.5388 - accuracy: 0.7987 - val_loss: 0.5387 - val_accuracy: 0.8075\n",
            "Epoch 271/300\n",
            "10/10 [==============================] - 0s 5ms/step - loss: 0.5374 - accuracy: 0.7965 - val_loss: 0.5381 - val_accuracy: 0.8108\n",
            "Epoch 272/300\n",
            "10/10 [==============================] - 0s 5ms/step - loss: 0.5365 - accuracy: 0.7965 - val_loss: 0.5375 - val_accuracy: 0.8125\n",
            "Epoch 273/300\n",
            "10/10 [==============================] - 0s 5ms/step - loss: 0.5375 - accuracy: 0.7967 - val_loss: 0.5369 - val_accuracy: 0.8100\n",
            "Epoch 274/300\n",
            "10/10 [==============================] - 0s 6ms/step - loss: 0.5343 - accuracy: 0.8021 - val_loss: 0.5366 - val_accuracy: 0.8117\n",
            "Epoch 275/300\n",
            "10/10 [==============================] - 0s 4ms/step - loss: 0.5359 - accuracy: 0.7983 - val_loss: 0.5362 - val_accuracy: 0.8108\n",
            "Epoch 276/300\n",
            "10/10 [==============================] - 0s 5ms/step - loss: 0.5356 - accuracy: 0.7975 - val_loss: 0.5357 - val_accuracy: 0.8108\n",
            "Epoch 277/300\n",
            "10/10 [==============================] - 0s 5ms/step - loss: 0.5342 - accuracy: 0.7973 - val_loss: 0.5350 - val_accuracy: 0.8133\n",
            "Epoch 278/300\n",
            "10/10 [==============================] - 0s 4ms/step - loss: 0.5335 - accuracy: 0.7994 - val_loss: 0.5345 - val_accuracy: 0.8133\n",
            "Epoch 279/300\n",
            "10/10 [==============================] - 0s 5ms/step - loss: 0.5335 - accuracy: 0.8033 - val_loss: 0.5341 - val_accuracy: 0.8133\n",
            "Epoch 280/300\n",
            "10/10 [==============================] - 0s 5ms/step - loss: 0.5322 - accuracy: 0.7994 - val_loss: 0.5336 - val_accuracy: 0.8133\n",
            "Epoch 281/300\n",
            "10/10 [==============================] - 0s 5ms/step - loss: 0.5312 - accuracy: 0.8004 - val_loss: 0.5331 - val_accuracy: 0.8142\n",
            "Epoch 282/300\n",
            "10/10 [==============================] - 0s 5ms/step - loss: 0.5317 - accuracy: 0.7996 - val_loss: 0.5324 - val_accuracy: 0.8125\n",
            "Epoch 283/300\n",
            "10/10 [==============================] - 0s 5ms/step - loss: 0.5312 - accuracy: 0.8019 - val_loss: 0.5319 - val_accuracy: 0.8133\n",
            "Epoch 284/300\n",
            "10/10 [==============================] - 0s 5ms/step - loss: 0.5313 - accuracy: 0.8060 - val_loss: 0.5314 - val_accuracy: 0.8133\n",
            "Epoch 285/300\n",
            "10/10 [==============================] - 0s 5ms/step - loss: 0.5293 - accuracy: 0.8046 - val_loss: 0.5312 - val_accuracy: 0.8117\n",
            "Epoch 286/300\n",
            "10/10 [==============================] - 0s 5ms/step - loss: 0.5302 - accuracy: 0.8025 - val_loss: 0.5306 - val_accuracy: 0.8150\n",
            "Epoch 287/300\n",
            "10/10 [==============================] - 0s 5ms/step - loss: 0.5302 - accuracy: 0.8031 - val_loss: 0.5300 - val_accuracy: 0.8133\n",
            "Epoch 288/300\n",
            "10/10 [==============================] - 0s 5ms/step - loss: 0.5294 - accuracy: 0.8062 - val_loss: 0.5295 - val_accuracy: 0.8150\n",
            "Epoch 289/300\n",
            "10/10 [==============================] - 0s 5ms/step - loss: 0.5282 - accuracy: 0.8040 - val_loss: 0.5289 - val_accuracy: 0.8158\n",
            "Epoch 290/300\n",
            "10/10 [==============================] - 0s 5ms/step - loss: 0.5279 - accuracy: 0.8071 - val_loss: 0.5285 - val_accuracy: 0.8133\n",
            "Epoch 291/300\n",
            "10/10 [==============================] - 0s 5ms/step - loss: 0.5278 - accuracy: 0.8044 - val_loss: 0.5281 - val_accuracy: 0.8125\n",
            "Epoch 292/300\n",
            "10/10 [==============================] - 0s 5ms/step - loss: 0.5259 - accuracy: 0.8056 - val_loss: 0.5276 - val_accuracy: 0.8125\n",
            "Epoch 293/300\n",
            "10/10 [==============================] - 0s 6ms/step - loss: 0.5269 - accuracy: 0.8062 - val_loss: 0.5270 - val_accuracy: 0.8133\n",
            "Epoch 294/300\n",
            "10/10 [==============================] - 0s 5ms/step - loss: 0.5241 - accuracy: 0.8085 - val_loss: 0.5267 - val_accuracy: 0.8108\n",
            "Epoch 295/300\n",
            "10/10 [==============================] - 0s 5ms/step - loss: 0.5258 - accuracy: 0.8048 - val_loss: 0.5259 - val_accuracy: 0.8167\n",
            "Epoch 296/300\n",
            "10/10 [==============================] - 0s 5ms/step - loss: 0.5250 - accuracy: 0.8090 - val_loss: 0.5257 - val_accuracy: 0.8125\n",
            "Epoch 297/300\n",
            "10/10 [==============================] - 0s 5ms/step - loss: 0.5237 - accuracy: 0.8077 - val_loss: 0.5250 - val_accuracy: 0.8150\n",
            "Epoch 298/300\n",
            "10/10 [==============================] - 0s 5ms/step - loss: 0.5238 - accuracy: 0.8079 - val_loss: 0.5247 - val_accuracy: 0.8142\n",
            "Epoch 299/300\n",
            "10/10 [==============================] - 0s 5ms/step - loss: 0.5227 - accuracy: 0.8104 - val_loss: 0.5240 - val_accuracy: 0.8175\n",
            "Epoch 300/300\n",
            "10/10 [==============================] - 0s 5ms/step - loss: 0.5221 - accuracy: 0.8098 - val_loss: 0.5235 - val_accuracy: 0.8158\n"
          ],
          "name": "stdout"
        }
      ]
    },
    {
      "cell_type": "markdown",
      "metadata": {
        "id": "OVh517kHoVeD",
        "colab_type": "text"
      },
      "source": [
        "###Plot with separating line"
      ]
    },
    {
      "cell_type": "code",
      "metadata": {
        "id": "SRu70dI__Xa7",
        "colab_type": "code",
        "outputId": "2af5908c-8245-48a4-a842-996857e65ba5",
        "colab": {
          "base_uri": "https://localhost:8080/",
          "height": 318
        }
      },
      "source": [
        "actual_x_val = np.linspace(0.0, 1.0, 100)\n",
        "actual_y_val = actual_x_val * 5 + 5\n",
        "\n",
        "# plotting actual x and actual y value\n",
        "plt.plot(actual_x_val, actual_y_val, color = 'black')\n",
        "\n",
        "# creating new x value and y value\n",
        "x_new_val = np.linspace(0.0, 1.0, 100)\n",
        "weights_values = my_keras_model.layers[0].get_weights()\n",
        "\n",
        "bias_value = weights_values[1][0]\n",
        "x_1_weight = weights_values[0][0]\n",
        "x_2_weight = weights_values[0][1]\n",
        "\n",
        "# the inputs and weights of vectors in 2-dimensions, the dot product summation is: w1 * x1 + w2 + x2 + b\n",
        "# since x1 is x and x2 is y, it can be rewritten as w1x + w2y + b... the standard equation of a line (Ax + By - C = 0)\n",
        "# subtract c from both sides and solve the equation for x and y. With those 2 points we can acquire the slope\n",
        "# rearrange the equation in slope intercept form and plug in values. \n",
        "# Source: https://medium.com/@thomascountz/calculate-the-decision-boundary-of-a-single-perceptron-visualizing-linear-separability-c4d77099ef38\n",
        "\n",
        "y_new_val = (-(bias_value / x_2_weight) / (bias_value / x_1_weight)) * x_new_val + (-bias_value / x_2_weight)\n",
        "\n",
        "## plotting new x and y value\n",
        "plt.plot(x_new_val, y_new_val, color = 'orange')\n",
        "display_random_data(labels, data, 0)\n",
        "plt.plot()\n",
        "\n",
        "# Add title and axis names\n",
        "plt.title('Plot comparision of actual and new X and Y')\n",
        "plt.xlabel('X values')\n",
        "plt.ylabel('Y values')\n"
      ],
      "execution_count": 94,
      "outputs": [
        {
          "output_type": "execute_result",
          "data": {
            "text/plain": [
              "Text(0, 0.5, 'Y values')"
            ]
          },
          "metadata": {
            "tags": []
          },
          "execution_count": 94
        },
        {
          "output_type": "display_data",
          "data": {
            "image/png": "[encoded data removed]",
            "text/plain": [
              "<Figure size 432x288 with 1 Axes>"
            ]
          },
          "metadata": {
            "tags": []
          }
        }
      ]
    },
    {
      "cell_type": "markdown",
      "metadata": {
        "id": "PVVynv5VoSEv",
        "colab_type": "text"
      },
      "source": [
        "###Display heat map"
      ]
    },
    {
      "cell_type": "code",
      "metadata": {
        "id": "HE9LxmdD_XpW",
        "colab_type": "code",
        "outputId": "ff436bfa-f788-4072-e13c-e8061cf4a2d2",
        "colab": {
          "base_uri": "https://localhost:8080/",
          "height": 272
        }
      },
      "source": [
        "x_lin = np.linspace(0, 1, 500)\n",
        "y_lin = np.linspace(0, 10, 500)\n",
        "\n",
        "fig = plt.figure()\n",
        "\n",
        "X, Y = np.meshgrid(x_lin, y_lin)\n",
        "\n",
        "z = my_keras_model.predict(np.c_[X.ravel(), Y.ravel()])\n",
        "\n",
        "z = z.reshape(X.shape)\n",
        "\n",
        "plt.xlim([0, 1])\n",
        "plt.ylim([0, 10])\n",
        "\n",
        "plt.contourf(X, Y, z, 40, cmap = 'RdGy')\n",
        "plt.colorbar()\n",
        "plt.show()"
      ],
      "execution_count": 95,
      "outputs": [
        {
          "output_type": "display_data",
          "data": {
            "image/png": "[encoded data removed]",
            "text/plain": [
              "<Figure size 432x288 with 2 Axes>"
            ]
          },
          "metadata": {
            "tags": []
          }
        }
      ]
    },
    {
      "cell_type": "markdown",
      "metadata": {
        "id": "3hIMJeytGAcH",
        "colab_type": "text"
      },
      "source": [
        "# Problem 3"
      ]
    },
    {
      "cell_type": "markdown",
      "metadata": {
        "id": "Vqo4BB7JpV-5",
        "colab_type": "text"
      },
      "source": [
        "###Compute loss and binary cross entropy"
      ]
    },
    {
      "cell_type": "code",
      "metadata": {
        "id": "PTBk1Ddg_XxD",
        "colab_type": "code",
        "colab": {}
      },
      "source": [
        "epochs_count = 300\n",
        "lr = 0.001"
      ],
      "execution_count": 0,
      "outputs": []
    },
    {
      "cell_type": "code",
      "metadata": {
        "id": "k355ZjZN_X5y",
        "colab_type": "code",
        "colab": {}
      },
      "source": [
        "def sigmoid_function(z):\n",
        "  return 1 / (1 + np.exp(-1 * z))\n",
        "\n",
        "def entropy_func(y, a):\n",
        "  return -y * np.log10(a) - (1 - y) * np.log10(1 - a)\n",
        "\n",
        "def loss_computation(A, B):\n",
        "  partial = m*.80\n",
        "  loss_val = 0\n",
        "  for data_val, label in zip(A, B):\n",
        "    predictor = np.dot(np.reshape(weights_manually_calculated, (2, )), data_val) + bias_term\n",
        "    bce = entropy_func(label, sigmoid_function(predictor))\n",
        "    loss_val += bce\n",
        "  loss_val /= (partial)\n",
        "  return loss_val"
      ],
      "execution_count": 0,
      "outputs": []
    },
    {
      "cell_type": "code",
      "metadata": {
        "id": "aYvltP0g_YN1",
        "colab_type": "code",
        "outputId": "1d8bc65d-d15e-4f7f-ffbc-984d3e35131c",
        "colab": {
          "base_uri": "https://localhost:8080/",
          "height": 51
        }
      },
      "source": [
        "# Stochastic gradient descent\n",
        "weights_manually_calculated = np.random.rand(2)\n",
        "bias_term = np.zeros(1)\n",
        "\n",
        "for epoch in np.arange(epochs_count):\n",
        "  for i in np.arange(80):\n",
        "    y_pred = np.dot(weights_manually_calculated, training_set[i]) + bias_term\n",
        "    inner = sigmoid_function(y_pred) - training_set_label[i]\n",
        "    gradient_weight_0 = inner * training_set[i][0]\n",
        "    gradient_weight_1 = inner * training_set[i][1]\n",
        "    gradient_b = inner\n",
        "\n",
        "    weights_manually_calculated[0] -= lr * gradient_weight_0\n",
        "    weights_manually_calculated[1] -= lr * gradient_weight_1\n",
        "    bias_term -= lr * gradient_b\n",
        "\n",
        "print(\"The manual weight is : \",weights_manually_calculated)\n",
        "print(\"The manual bias term is: \", bias_term)\n"
      ],
      "execution_count": 98,
      "outputs": [
        {
          "output_type": "stream",
          "text": [
            "The manual weight is :  [ 0.60707405 -0.2781969 ]\n",
            "The manual bias term is:  [1.50976419]\n"
          ],
          "name": "stdout"
        }
      ]
    },
    {
      "cell_type": "code",
      "metadata": {
        "id": "p-UlD026_Yb4",
        "colab_type": "code",
        "outputId": "81bd6bf6-d85e-4e6f-bf00-16d5fb64978e",
        "colab": {
          "base_uri": "https://localhost:8080/",
          "height": 34
        }
      },
      "source": [
        "## Compute accuracy\n",
        "accuracy = 0\n",
        "partial = m*.80\n",
        "for data_val, label in zip(testing_set,testing_set_label):\n",
        "  y_prediction = np.dot(np.reshape(weights_manually_calculated, (2, )), data_val) + bias_term\n",
        "  label_prediction = 1 if sigmoid_function(y_prediction) > 0.5 else 0\n",
        "  accuracy += 1 if label_prediction == label else 0\n",
        "\n",
        "print(accuracy / (m - partial))"
      ],
      "execution_count": 99,
      "outputs": [
        {
          "output_type": "stream",
          "text": [
            "0.7091666666666666\n"
          ],
          "name": "stdout"
        }
      ]
    },
    {
      "cell_type": "markdown",
      "metadata": {
        "id": "HwldCILmp5c2",
        "colab_type": "text"
      },
      "source": [
        "###Grid plot"
      ]
    },
    {
      "cell_type": "code",
      "metadata": {
        "id": "gNuP16GDPi-P",
        "colab_type": "code",
        "outputId": "b5899b5a-2625-4379-e00f-4c28d9e54e18",
        "colab": {
          "base_uri": "https://localhost:8080/",
          "height": 318
        }
      },
      "source": [
        "x_actual = np.linspace(0.0, 1.0, 100)\n",
        "y_actual = x_actual * 5 + 5\n",
        "\n",
        "plt.plot(x_actual, y_actual, color = 'grey')\n",
        "\n",
        "x_new = np.linspace(0.0, 1.0, 100)\n",
        "\n",
        "bias = bias_term[0]\n",
        "x_1_weight = weights_manually_calculated[0]\n",
        "x_2_weight = weights_manually_calculated[1]\n",
        "\n",
        "y_new = (-(bias / x_2_weight) / (bias / x_1_weight)) * x_new + (-bias / x_2_weight)\n",
        "\n",
        "plt.plot(x_new, y_new, color = 'blue')\n",
        "display_random_data(labels, data, 0)\n",
        "plt.plot()\n",
        "\n",
        "plt.title('Plot comparision of actual and new X and Y')\n",
        "plt.xlabel('X values')\n",
        "plt.ylabel('Y values')"
      ],
      "execution_count": 100,
      "outputs": [
        {
          "output_type": "execute_result",
          "data": {
            "text/plain": [
              "Text(0, 0.5, 'Y values')"
            ]
          },
          "metadata": {
            "tags": []
          },
          "execution_count": 100
        },
        {
          "output_type": "display_data",
          "data": {
            "image/png": "[encoded data removed]",
            "text/plain": [
              "<Figure size 432x288 with 1 Axes>"
            ]
          },
          "metadata": {
            "tags": []
          }
        }
      ]
    },
    {
      "cell_type": "markdown",
      "metadata": {
        "id": "9AnpUrQtqAwd",
        "colab_type": "text"
      },
      "source": [
        "###Heat map"
      ]
    },
    {
      "cell_type": "code",
      "metadata": {
        "id": "DM4YakV1_YfW",
        "colab_type": "code",
        "outputId": "167e6b7e-b1ed-4c46-9985-a3a7929f4998",
        "colab": {
          "base_uri": "https://localhost:8080/",
          "height": 272
        }
      },
      "source": [
        "x_linear = np.linspace(0, 1, 500)\n",
        "y_linear = np.linspace(0, 10, 500)\n",
        "\n",
        "figure = plt.figure()\n",
        "\n",
        "X, Y = np.meshgrid(x_linear, y_linear)\n",
        "\n",
        "z_value = sigmoid_function(X.ravel() * weights_manually_calculated[0] + Y.ravel() * weights_manually_calculated[1] + bias_term[0])\n",
        "z_value = z_value.reshape(X.shape)\n",
        "\n",
        "# plotting the gradient\n",
        "plt.xlim([0, 1]) # limit for x axis\n",
        "plt.ylim([0, 10]) # limit for y axis\n",
        "\n",
        "plt.contourf(X, Y, z_value, 40, cmap = 'RdGy')\n",
        "plt.colorbar()\n",
        "plt.show()"
      ],
      "execution_count": 101,
      "outputs": [
        {
          "output_type": "display_data",
          "data": {
            "image/png": "[encoded data removed]",
            "text/plain": [
              "<Figure size 432x288 with 2 Axes>"
            ]
          },
          "metadata": {
            "tags": []
          }
        }
      ]
    },
    {
      "cell_type": "code",
      "metadata": {
        "id": "OzC5Le3o1NiK",
        "colab_type": "code",
        "colab": {}
      },
      "source": [
        ""
      ],
      "execution_count": 0,
      "outputs": []
    }
  ]
}