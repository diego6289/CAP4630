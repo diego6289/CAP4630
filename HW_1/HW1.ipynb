{
  "nbformat": 4,
  "nbformat_minor": 0,
  "metadata": {
    "colab": {
      "name": "HW1.ipynb",
      "provenance": [],
      "collapsed_sections": [],
      "authorship_tag": "ABX9TyN2SNaQVT4+dlOte81sLKct",
      "include_colab_link": true
    },
    "kernelspec": {
      "name": "python2",
      "display_name": "Python 2"
    },
    "accelerator": "GPU"
  },
  "cells": [
    {
      "cell_type": "markdown",
      "metadata": {
        "id": "view-in-github",
        "colab_type": "text"
      },
      "source": [
        "<a href=\"https://colab.research.google.com/github/diego6289/CAP4630/blob/master/HW1.ipynb\" target=\"_parent\"><img src=\"https://colab.research.google.com/assets/colab-badge.svg\" alt=\"Open In Colab\"/></a>"
      ]
    },
    {
      "cell_type": "markdown",
      "metadata": {
        "id": "WWTBhK6Fwy7d",
        "colab_type": "text"
      },
      "source": [
        "# Matrix Multiplication\n"
      ]
    },
    {
      "cell_type": "markdown",
      "metadata": {
        "id": "jwIefK2f7ebM",
        "colab_type": "text"
      },
      "source": [
        "To multiply two matrices, the number of columns in the first matrix must be equal to the number of rows in the second matrix.\n",
        "\n",
        "If **A** is an *m* × *n* matrix and B is an *n* × *p* matrix, \n",
        "\n",
        ">$A_{m,n} =\n",
        " \\begin{pmatrix}\n",
        "  a_{1,1} & a_{1,2} & \\cdots & a_{1,n} \\\\\n",
        "  a_{2,1} & a_{2,2} & \\cdots & a_{2,n} \\\\\n",
        "  \\vdots  & \\vdots  & \\ddots & \\vdots  \\\\\n",
        "  a_{m,1} & a_{m,2} & \\cdots & a_{m,n}\n",
        " \\end{pmatrix}$\n",
        " \n",
        " >$B_{n,p} =\n",
        " \\begin{pmatrix}\n",
        "  b_{1,1} & b_{1,2} & \\cdots & b_{1,p} \\\\\n",
        "  b_{2,1} & b_{2,2} & \\cdots & b_{2,p} \\\\\n",
        "  \\vdots  & \\vdots  & \\ddots & \\vdots  \\\\\n",
        "  b_{n,1} & b_{n,2} & \\cdots & b_{n,p}\n",
        " \\end{pmatrix}$\n",
        "\n",
        " the matrix product **C = AB** is defined to be the *m* × *p* matrix\n",
        "\n",
        ">$C=\n",
        " \\begin{pmatrix}\n",
        "  c_{1,1} & c_{1,2} & \\cdots & c_{1,p} \\\\\n",
        "  c_{2,1} & c_{2,2} & \\cdots & c_{2,p} \\\\\n",
        "  \\vdots  & \\vdots  & \\ddots & \\vdots  \\\\\n",
        "  c_{m,1} & c_{m,2} & \\cdots & c_{m,p}\n",
        " \\end{pmatrix}$\n",
        " \n",
        " such that \n",
        "\n",
        " >$c_{ij}=a_{i1}b_{1j}+a_{i2}b_{2j}+...+a_{in}b_{nj}=\\sum_{k=1}^n a_{ik}b_{kj}$\n",
        "\n",
        " for *i* & *j* > 0.\n"
      ]
    },
    {
      "cell_type": "markdown",
      "metadata": {
        "id": "lzWDbtExyf0g",
        "colab_type": "text"
      },
      "source": [
        "## Import numpy library"
      ]
    },
    {
      "cell_type": "code",
      "metadata": {
        "id": "-J8d-THgynaU",
        "colab_type": "code",
        "colab": {}
      },
      "source": [
        "import numpy as np"
      ],
      "execution_count": 0,
      "outputs": []
    },
    {
      "cell_type": "markdown",
      "metadata": {
        "id": "RHOdCJcFywNK",
        "colab_type": "text"
      },
      "source": [
        "## Compute Matrix Multiplication"
      ]
    },
    {
      "cell_type": "code",
      "metadata": {
        "id": "irYzbTg4y7QT",
        "colab_type": "code",
        "colab": {}
      },
      "source": [
        "def multiply_matrices(array_list):  \n",
        "    \n",
        "    elements = len(array_list) - 1 # calculates the number of elements in the input array.\n",
        "    c = array_list[0]   # sets c to the first matrix in the list.\n",
        "\n",
        "    for i in range(elements):\n",
        "        try:\n",
        "            c = np.matmul(c, array_list[i + 1]) # sets c equal to the previous product times the next matrix in the array.\n",
        "        except:\n",
        "            c = 'matrix {} and matrix {} are incompatible'.format(i, i + 1) # if matrices aren't compatible, sets c to this error message.\n",
        "\n",
        "    return c "
      ],
      "execution_count": 0,
      "outputs": []
    },
    {
      "cell_type": "markdown",
      "metadata": {
        "id": "fhLRu2_xzPtK",
        "colab_type": "text"
      },
      "source": [
        "## Run a working test case"
      ]
    },
    {
      "cell_type": "code",
      "metadata": {
        "id": "2ICBA_0OzTdX",
        "colab_type": "code",
        "colab": {
          "base_uri": "https://localhost:8080/",
          "height": 51
        },
        "outputId": "c5bb0881-153f-44f4-9a4c-5660b295ee80"
      },
      "source": [
        "a = np.array([[1,0],[0,1]])\n",
        "b = np.array([[4,1],[2,2]])\n",
        "d = np.array([[3,3],[3,3]])\n",
        "e = np.array([[4,4],[5,5]])\n",
        "\n",
        "my_list = [a,b,d,e]\n",
        "\n",
        "Mat = multiply_matrices(my_list)\n",
        "print(Mat)"
      ],
      "execution_count": 17,
      "outputs": [
        {
          "output_type": "stream",
          "text": [
            "[[135 135]\n",
            " [108 108]]\n"
          ],
          "name": "stdout"
        }
      ]
    },
    {
      "cell_type": "markdown",
      "metadata": {
        "id": "xkoL9cYnGzH-",
        "colab_type": "text"
      },
      "source": [
        "## Run an invalid test case"
      ]
    },
    {
      "cell_type": "code",
      "metadata": {
        "id": "rOCoRYhLG3l5",
        "colab_type": "code",
        "colab": {
          "base_uri": "https://localhost:8080/",
          "height": 34
        },
        "outputId": "54c7d014-dfb0-411a-bafd-3788803de665"
      },
      "source": [
        "a = np.array([[1,0],[0,1]])\n",
        "b = np.array([[4,1],[2,2]])\n",
        "d = np.array([[3,3],[3,3]])\n",
        "e = np.array([[4,4],[5,5,6]])\n",
        "\n",
        "my_list = [a,b,d,e]\n",
        "\n",
        "Mat = multiply_matrices(my_list)\n",
        "print(Mat)"
      ],
      "execution_count": 7,
      "outputs": [
        {
          "output_type": "stream",
          "text": [
            "matrix 2 and matrix 3 are incompatible\n"
          ],
          "name": "stdout"
        }
      ]
    }
  ]
}
